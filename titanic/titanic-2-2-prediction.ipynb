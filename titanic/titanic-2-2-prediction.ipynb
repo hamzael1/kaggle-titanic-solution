{
 "cells": [
  {
   "cell_type": "markdown",
   "metadata": {
    "_uuid": "f5028ce3c311eb4cdf8f0141ad2b3a7da36daf95"
   },
   "source": [
    "# Titanic (2/2): Prediction\n",
    "- This is the Second Kernel which will use the Output of the first one to make predictions."
   ]
  },
  {
   "cell_type": "code",
   "execution_count": 1,
   "metadata": {
    "_cell_guid": "b1076dfc-b9ad-4769-8c92-a6c4dae69d19",
    "_uuid": "8f2839f25d086af736a60e9eeb907d3b93b6e0e5",
    "collapsed": true
   },
   "outputs": [],
   "source": [
    "import numpy as np # linear algebra\n",
    "import pandas as pd # data processing, CSV file I/O (e.g. pd.read_csv)\n"
   ]
  },
  {
   "cell_type": "markdown",
   "metadata": {
    "_uuid": "8c36b5d35a75e50545dd48a3550cd99b35cc088e"
   },
   "source": [
    "## Import Cleaned Data"
   ]
  },
  {
   "cell_type": "code",
   "execution_count": 2,
   "metadata": {
    "_uuid": "4f415a25434b81c3850b62bb9824e3bcbea83065",
    "collapsed": true
   },
   "outputs": [],
   "source": [
    "IN_CLOUD = False\n",
    "INPUT_DIR = '../input/titanic-1-2-exploration-pre-processing' if IN_CLOUD else './data'"
   ]
  },
  {
   "cell_type": "code",
   "execution_count": 3,
   "metadata": {
    "_uuid": "7ff4f4d367b400bcc614ad43a73f72d5a1d4ec71",
    "collapsed": true
   },
   "outputs": [],
   "source": [
    "train_clean_df = pd.read_csv(f'{INPUT_DIR}/train_clean.csv')\n",
    "test_clean_df  = pd.read_csv(f'{INPUT_DIR}/test_clean.csv' )"
   ]
  },
  {
   "cell_type": "code",
   "execution_count": 4,
   "metadata": {
    "_uuid": "3cd7551ab74b07658b35d2ed0953acfaab42e6d9"
   },
   "outputs": [
    {
     "data": {
      "text/html": [
       "<div>\n",
       "<style>\n",
       "    .dataframe thead tr:only-child th {\n",
       "        text-align: right;\n",
       "    }\n",
       "\n",
       "    .dataframe thead th {\n",
       "        text-align: left;\n",
       "    }\n",
       "\n",
       "    .dataframe tbody tr th {\n",
       "        vertical-align: top;\n",
       "    }\n",
       "</style>\n",
       "<table border=\"1\" class=\"dataframe\">\n",
       "  <thead>\n",
       "    <tr style=\"text-align: right;\">\n",
       "      <th></th>\n",
       "      <th>Survived</th>\n",
       "      <th>Pclass</th>\n",
       "      <th>Sex</th>\n",
       "      <th>Age</th>\n",
       "      <th>Fare</th>\n",
       "      <th>AgeCat</th>\n",
       "      <th>NbrRelatives</th>\n",
       "      <th>IsAlone</th>\n",
       "      <th>Embarked_C</th>\n",
       "      <th>Embarked_Q</th>\n",
       "      <th>Embarked_S</th>\n",
       "      <th>Title_Master</th>\n",
       "      <th>Title_Miss</th>\n",
       "      <th>Title_Mr</th>\n",
       "      <th>Title_Rare</th>\n",
       "    </tr>\n",
       "  </thead>\n",
       "  <tbody>\n",
       "    <tr>\n",
       "      <th>494</th>\n",
       "      <td>0</td>\n",
       "      <td>3</td>\n",
       "      <td>1</td>\n",
       "      <td>21.0</td>\n",
       "      <td>8.0500</td>\n",
       "      <td>1</td>\n",
       "      <td>0</td>\n",
       "      <td>True</td>\n",
       "      <td>0</td>\n",
       "      <td>0</td>\n",
       "      <td>1</td>\n",
       "      <td>0</td>\n",
       "      <td>0</td>\n",
       "      <td>1</td>\n",
       "      <td>0</td>\n",
       "    </tr>\n",
       "    <tr>\n",
       "      <th>797</th>\n",
       "      <td>1</td>\n",
       "      <td>3</td>\n",
       "      <td>0</td>\n",
       "      <td>31.0</td>\n",
       "      <td>8.6833</td>\n",
       "      <td>2</td>\n",
       "      <td>0</td>\n",
       "      <td>True</td>\n",
       "      <td>0</td>\n",
       "      <td>0</td>\n",
       "      <td>1</td>\n",
       "      <td>0</td>\n",
       "      <td>1</td>\n",
       "      <td>0</td>\n",
       "      <td>0</td>\n",
       "    </tr>\n",
       "    <tr>\n",
       "      <th>296</th>\n",
       "      <td>0</td>\n",
       "      <td>3</td>\n",
       "      <td>1</td>\n",
       "      <td>23.5</td>\n",
       "      <td>7.2292</td>\n",
       "      <td>2</td>\n",
       "      <td>0</td>\n",
       "      <td>True</td>\n",
       "      <td>1</td>\n",
       "      <td>0</td>\n",
       "      <td>0</td>\n",
       "      <td>0</td>\n",
       "      <td>0</td>\n",
       "      <td>1</td>\n",
       "      <td>0</td>\n",
       "    </tr>\n",
       "  </tbody>\n",
       "</table>\n",
       "</div>"
      ],
      "text/plain": [
       "     Survived  Pclass  Sex   Age    Fare  AgeCat  NbrRelatives  IsAlone  \\\n",
       "494         0       3    1  21.0  8.0500       1             0     True   \n",
       "797         1       3    0  31.0  8.6833       2             0     True   \n",
       "296         0       3    1  23.5  7.2292       2             0     True   \n",
       "\n",
       "     Embarked_C  Embarked_Q  Embarked_S  Title_Master  Title_Miss  Title_Mr  \\\n",
       "494           0           0           1             0           0         1   \n",
       "797           0           0           1             0           1         0   \n",
       "296           1           0           0             0           0         1   \n",
       "\n",
       "     Title_Rare  \n",
       "494           0  \n",
       "797           0  \n",
       "296           0  "
      ]
     },
     "execution_count": 4,
     "metadata": {},
     "output_type": "execute_result"
    }
   ],
   "source": [
    "train_clean_df.sample(3)"
   ]
  },
  {
   "cell_type": "markdown",
   "metadata": {
    "_uuid": "dc457cc10fb2badf0809fa349c5fe7b99226720d"
   },
   "source": [
    "#### Cut the Passenger Ids from the Test Dataset (because it's not a feature). We will append them later after we do our predictions:"
   ]
  },
  {
   "cell_type": "code",
   "execution_count": 5,
   "metadata": {
    "_uuid": "0283cefcd7db608192d0b1bb2dccf657afd3b114",
    "collapsed": true
   },
   "outputs": [],
   "source": [
    "test_passenger_ids = test_clean_df.PassengerId\n",
    "test_clean_df = test_clean_df.drop('PassengerId', axis=1)"
   ]
  },
  {
   "cell_type": "markdown",
   "metadata": {
    "_uuid": "7020e39b0f1bbdce3114325512c3f9502facf3ce"
   },
   "source": [
    "#### Do some Feature Selection and experiment with different features: "
   ]
  },
  {
   "cell_type": "code",
   "execution_count": 6,
   "metadata": {
    "_uuid": "c36a4e996732bf71020d6c487fe84b885121cd67",
    "collapsed": true
   },
   "outputs": [],
   "source": [
    "drop_cols = ['NbrRelatives', 'Age']\n",
    "\n",
    "train_clean_df.drop(drop_cols, axis=1, inplace=True)\n",
    "test_clean_df.drop(drop_cols, axis=1, inplace=True)"
   ]
  },
  {
   "cell_type": "code",
   "execution_count": 7,
   "metadata": {
    "_uuid": "6012fa19075314e2a5d18bfe6d0c2706a2f123a6"
   },
   "outputs": [
    {
     "data": {
      "text/html": [
       "<div>\n",
       "<style>\n",
       "    .dataframe thead tr:only-child th {\n",
       "        text-align: right;\n",
       "    }\n",
       "\n",
       "    .dataframe thead th {\n",
       "        text-align: left;\n",
       "    }\n",
       "\n",
       "    .dataframe tbody tr th {\n",
       "        vertical-align: top;\n",
       "    }\n",
       "</style>\n",
       "<table border=\"1\" class=\"dataframe\">\n",
       "  <thead>\n",
       "    <tr style=\"text-align: right;\">\n",
       "      <th></th>\n",
       "      <th>Survived</th>\n",
       "      <th>Pclass</th>\n",
       "      <th>Sex</th>\n",
       "      <th>Fare</th>\n",
       "      <th>AgeCat</th>\n",
       "      <th>IsAlone</th>\n",
       "      <th>Embarked_C</th>\n",
       "      <th>Embarked_Q</th>\n",
       "      <th>Embarked_S</th>\n",
       "      <th>Title_Master</th>\n",
       "      <th>Title_Miss</th>\n",
       "      <th>Title_Mr</th>\n",
       "      <th>Title_Rare</th>\n",
       "    </tr>\n",
       "  </thead>\n",
       "  <tbody>\n",
       "    <tr>\n",
       "      <th>666</th>\n",
       "      <td>0</td>\n",
       "      <td>2</td>\n",
       "      <td>1</td>\n",
       "      <td>13.0000</td>\n",
       "      <td>2</td>\n",
       "      <td>True</td>\n",
       "      <td>0</td>\n",
       "      <td>0</td>\n",
       "      <td>1</td>\n",
       "      <td>0</td>\n",
       "      <td>0</td>\n",
       "      <td>1</td>\n",
       "      <td>0</td>\n",
       "    </tr>\n",
       "    <tr>\n",
       "      <th>316</th>\n",
       "      <td>1</td>\n",
       "      <td>2</td>\n",
       "      <td>0</td>\n",
       "      <td>26.0000</td>\n",
       "      <td>2</td>\n",
       "      <td>False</td>\n",
       "      <td>0</td>\n",
       "      <td>0</td>\n",
       "      <td>1</td>\n",
       "      <td>0</td>\n",
       "      <td>1</td>\n",
       "      <td>0</td>\n",
       "      <td>0</td>\n",
       "    </tr>\n",
       "    <tr>\n",
       "      <th>268</th>\n",
       "      <td>1</td>\n",
       "      <td>1</td>\n",
       "      <td>0</td>\n",
       "      <td>153.4625</td>\n",
       "      <td>4</td>\n",
       "      <td>False</td>\n",
       "      <td>0</td>\n",
       "      <td>0</td>\n",
       "      <td>1</td>\n",
       "      <td>0</td>\n",
       "      <td>1</td>\n",
       "      <td>0</td>\n",
       "      <td>0</td>\n",
       "    </tr>\n",
       "  </tbody>\n",
       "</table>\n",
       "</div>"
      ],
      "text/plain": [
       "     Survived  Pclass  Sex      Fare  AgeCat  IsAlone  Embarked_C  Embarked_Q  \\\n",
       "666         0       2    1   13.0000       2     True           0           0   \n",
       "316         1       2    0   26.0000       2    False           0           0   \n",
       "268         1       1    0  153.4625       4    False           0           0   \n",
       "\n",
       "     Embarked_S  Title_Master  Title_Miss  Title_Mr  Title_Rare  \n",
       "666           1             0           0         1           0  \n",
       "316           1             0           1         0           0  \n",
       "268           1             0           1         0           0  "
      ]
     },
     "execution_count": 7,
     "metadata": {},
     "output_type": "execute_result"
    }
   ],
   "source": [
    "train_clean_df.sample(3)"
   ]
  },
  {
   "cell_type": "code",
   "execution_count": 8,
   "metadata": {
    "_uuid": "fc372f7ba3f1a3c817340c2fa28d5b7ba6170880"
   },
   "outputs": [
    {
     "data": {
      "text/html": [
       "<div>\n",
       "<style>\n",
       "    .dataframe thead tr:only-child th {\n",
       "        text-align: right;\n",
       "    }\n",
       "\n",
       "    .dataframe thead th {\n",
       "        text-align: left;\n",
       "    }\n",
       "\n",
       "    .dataframe tbody tr th {\n",
       "        vertical-align: top;\n",
       "    }\n",
       "</style>\n",
       "<table border=\"1\" class=\"dataframe\">\n",
       "  <thead>\n",
       "    <tr style=\"text-align: right;\">\n",
       "      <th></th>\n",
       "      <th>Pclass</th>\n",
       "      <th>Sex</th>\n",
       "      <th>Fare</th>\n",
       "      <th>IsAlone</th>\n",
       "      <th>AgeCat</th>\n",
       "      <th>Embarked_C</th>\n",
       "      <th>Embarked_Q</th>\n",
       "      <th>Embarked_S</th>\n",
       "      <th>Title_Master</th>\n",
       "      <th>Title_Miss</th>\n",
       "      <th>Title_Mr</th>\n",
       "      <th>Title_Rare</th>\n",
       "    </tr>\n",
       "  </thead>\n",
       "  <tbody>\n",
       "    <tr>\n",
       "      <th>0</th>\n",
       "      <td>3</td>\n",
       "      <td>1</td>\n",
       "      <td>7.8292</td>\n",
       "      <td>True</td>\n",
       "      <td>2</td>\n",
       "      <td>0</td>\n",
       "      <td>1</td>\n",
       "      <td>0</td>\n",
       "      <td>0</td>\n",
       "      <td>0</td>\n",
       "      <td>1</td>\n",
       "      <td>0</td>\n",
       "    </tr>\n",
       "    <tr>\n",
       "      <th>294</th>\n",
       "      <td>3</td>\n",
       "      <td>1</td>\n",
       "      <td>9.5000</td>\n",
       "      <td>True</td>\n",
       "      <td>3</td>\n",
       "      <td>0</td>\n",
       "      <td>0</td>\n",
       "      <td>1</td>\n",
       "      <td>0</td>\n",
       "      <td>0</td>\n",
       "      <td>1</td>\n",
       "      <td>0</td>\n",
       "    </tr>\n",
       "    <tr>\n",
       "      <th>409</th>\n",
       "      <td>3</td>\n",
       "      <td>0</td>\n",
       "      <td>13.7750</td>\n",
       "      <td>False</td>\n",
       "      <td>0</td>\n",
       "      <td>0</td>\n",
       "      <td>0</td>\n",
       "      <td>1</td>\n",
       "      <td>0</td>\n",
       "      <td>1</td>\n",
       "      <td>0</td>\n",
       "      <td>0</td>\n",
       "    </tr>\n",
       "  </tbody>\n",
       "</table>\n",
       "</div>"
      ],
      "text/plain": [
       "     Pclass  Sex     Fare  IsAlone  AgeCat  Embarked_C  Embarked_Q  \\\n",
       "0         3    1   7.8292     True       2           0           1   \n",
       "294       3    1   9.5000     True       3           0           0   \n",
       "409       3    0  13.7750    False       0           0           0   \n",
       "\n",
       "     Embarked_S  Title_Master  Title_Miss  Title_Mr  Title_Rare  \n",
       "0             0             0           0         1           0  \n",
       "294           1             0           0         1           0  \n",
       "409           1             0           1         0           0  "
      ]
     },
     "execution_count": 8,
     "metadata": {},
     "output_type": "execute_result"
    }
   ],
   "source": [
    "test_clean_df.sample(3)"
   ]
  },
  {
   "cell_type": "markdown",
   "metadata": {
    "_cell_guid": "79c7e3d0-c299-4dcb-8224-4455121ee9b0",
    "_uuid": "d629ff2d2480ee46fbb7e2d37f6b5fab8052498a",
    "collapsed": true
   },
   "source": [
    "## Modeling"
   ]
  },
  {
   "cell_type": "code",
   "execution_count": 9,
   "metadata": {
    "_uuid": "0c2300abd4c0ff8a5cb4b92ba5643488b4d1bf69"
   },
   "outputs": [
    {
     "data": {
      "text/html": [
       "<div>\n",
       "<style>\n",
       "    .dataframe thead tr:only-child th {\n",
       "        text-align: right;\n",
       "    }\n",
       "\n",
       "    .dataframe thead th {\n",
       "        text-align: left;\n",
       "    }\n",
       "\n",
       "    .dataframe tbody tr th {\n",
       "        vertical-align: top;\n",
       "    }\n",
       "</style>\n",
       "<table border=\"1\" class=\"dataframe\">\n",
       "  <thead>\n",
       "    <tr style=\"text-align: right;\">\n",
       "      <th></th>\n",
       "      <th>Pclass</th>\n",
       "      <th>Sex</th>\n",
       "      <th>Fare</th>\n",
       "      <th>AgeCat</th>\n",
       "      <th>IsAlone</th>\n",
       "      <th>Embarked_C</th>\n",
       "      <th>Embarked_Q</th>\n",
       "      <th>Embarked_S</th>\n",
       "      <th>Title_Master</th>\n",
       "      <th>Title_Miss</th>\n",
       "      <th>Title_Mr</th>\n",
       "      <th>Title_Rare</th>\n",
       "    </tr>\n",
       "  </thead>\n",
       "  <tbody>\n",
       "    <tr>\n",
       "      <th>191</th>\n",
       "      <td>2</td>\n",
       "      <td>1</td>\n",
       "      <td>13.0000</td>\n",
       "      <td>1</td>\n",
       "      <td>True</td>\n",
       "      <td>0</td>\n",
       "      <td>0</td>\n",
       "      <td>1</td>\n",
       "      <td>0</td>\n",
       "      <td>0</td>\n",
       "      <td>1</td>\n",
       "      <td>0</td>\n",
       "    </tr>\n",
       "    <tr>\n",
       "      <th>125</th>\n",
       "      <td>3</td>\n",
       "      <td>1</td>\n",
       "      <td>11.2417</td>\n",
       "      <td>0</td>\n",
       "      <td>False</td>\n",
       "      <td>1</td>\n",
       "      <td>0</td>\n",
       "      <td>0</td>\n",
       "      <td>1</td>\n",
       "      <td>0</td>\n",
       "      <td>0</td>\n",
       "      <td>0</td>\n",
       "    </tr>\n",
       "    <tr>\n",
       "      <th>544</th>\n",
       "      <td>1</td>\n",
       "      <td>1</td>\n",
       "      <td>106.4250</td>\n",
       "      <td>4</td>\n",
       "      <td>False</td>\n",
       "      <td>1</td>\n",
       "      <td>0</td>\n",
       "      <td>0</td>\n",
       "      <td>0</td>\n",
       "      <td>0</td>\n",
       "      <td>1</td>\n",
       "      <td>0</td>\n",
       "    </tr>\n",
       "  </tbody>\n",
       "</table>\n",
       "</div>"
      ],
      "text/plain": [
       "     Pclass  Sex      Fare  AgeCat  IsAlone  Embarked_C  Embarked_Q  \\\n",
       "191       2    1   13.0000       1     True           0           0   \n",
       "125       3    1   11.2417       0    False           1           0   \n",
       "544       1    1  106.4250       4    False           1           0   \n",
       "\n",
       "     Embarked_S  Title_Master  Title_Miss  Title_Mr  Title_Rare  \n",
       "191           1             0           0         1           0  \n",
       "125           0             1           0         0           0  \n",
       "544           0             0           0         1           0  "
      ]
     },
     "execution_count": 9,
     "metadata": {},
     "output_type": "execute_result"
    }
   ],
   "source": [
    "train_y = train_clean_df.Survived\n",
    "train_x = train_clean_df.drop('Survived', axis=1)\n",
    "\n",
    "train_x.sample(3)"
   ]
  },
  {
   "cell_type": "markdown",
   "metadata": {
    "_uuid": "0b3d010dafae3a6d37ae13943d19701a7dda4f04"
   },
   "source": [
    "#### Imports related to modeling:"
   ]
  },
  {
   "cell_type": "code",
   "execution_count": 10,
   "metadata": {
    "_uuid": "31b2fb1b270f47c3ba7602ecce99cd0c074cd67e"
   },
   "outputs": [
    {
     "name": "stderr",
     "output_type": "stream",
     "text": [
      "/Users/hamza/anaconda/lib/python3.6/site-packages/sklearn/ensemble/weight_boosting.py:29: DeprecationWarning: numpy.core.umath_tests is an internal NumPy module and should not be imported. It will be removed in a future NumPy release.\n",
      "  from numpy.core.umath_tests import inner1d\n"
     ]
    }
   ],
   "source": [
    "from sklearn.ensemble import RandomForestClassifier, AdaBoostClassifier\n",
    "from sklearn.model_selection import GridSearchCV, train_test_split, cross_val_score\n",
    "from sklearn import metrics"
   ]
  },
  {
   "cell_type": "code",
   "execution_count": 11,
   "metadata": {
    "_uuid": "f85909cb0450a890625ba4e7ced5bd50eb8db5b3",
    "collapsed": true
   },
   "outputs": [],
   "source": [
    "#import xgboost as xgb\n",
    "#dmat = xgb.DMatrix(data=train_x, label=train_y)\n",
    "#model = AdaBoostClassifier(n_estimators=50, learning_rate=1)\n",
    "#model = RandomForestClassifier()\n",
    "#model = xgb.XGBClassifier(learning_rate=0.04, n_estimators=100, max_depth=4)"
   ]
  },
  {
   "cell_type": "code",
   "execution_count": 12,
   "metadata": {
    "_uuid": "49771f6b3deb8deb0542fc9bc1fb9f65b2b7511a",
    "collapsed": true
   },
   "outputs": [],
   "source": [
    "GRID_SEARCH = False\n",
    "if GRID_SEARCH:\n",
    "    param_grid={\n",
    "        'n_estimators': [x for x in range(50, 400, 50)],\n",
    "        'max_features': ['auto', 'sqrt'],\n",
    "        'max_depth': [4,5,6,7],\n",
    "        'criterion': ['gini', 'entropy']\n",
    "    }\n",
    "    rfc = RandomForestClassifier()\n",
    "    model = GridSearchCV(estimator=rfc, param_grid=param_grid, cv=5)\n",
    "\n",
    "    print('Fitting ... ')\n",
    "    model.fit(train_x, train_y)\n",
    "    print('Best Params: ', model.best_params_)\n",
    "    print('CV results: ', model.cv_results_)\n"
   ]
  },
  {
   "cell_type": "code",
   "execution_count": 13,
   "metadata": {
    "_uuid": "6eda506f50fd8a91568e54c186a7d4e9fa1d9ef7"
   },
   "outputs": [
    {
     "name": "stdout",
     "output_type": "stream",
     "text": [
      "0.8260604790361825\n"
     ]
    }
   ],
   "source": [
    "model = RandomForestClassifier(n_estimators=100, criterion='gini', max_depth=5, max_features='auto')\n",
    "CROSS_VAL = True\n",
    "if CROSS_VAL:\n",
    "    scores = cross_val_score(model, train_x, train_y, cv=5)\n",
    "    print(scores.mean())"
   ]
  },
  {
   "cell_type": "code",
   "execution_count": 14,
   "metadata": {
    "_uuid": "25feb326c596b8f1dcf50514aadfdae2c5fe50d1",
    "collapsed": true
   },
   "outputs": [],
   "source": [
    "PREDICT = not GRID_SEARCH\n",
    "if PREDICT:\n",
    "    model.fit(train_x, train_y)\n",
    "    predictions = model.predict(test_clean_df)"
   ]
  },
  {
   "cell_type": "code",
   "execution_count": 15,
   "metadata": {
    "_uuid": "9850a61d738cfb8bbc6ad990e36fe7763d876e18"
   },
   "outputs": [
    {
     "name": "stdout",
     "output_type": "stream",
     "text": [
      "Done exporting !\n",
      "     PassengerId  Survived\n",
      "387         1279         0\n",
      "37           929         0\n",
      "172         1064         0\n",
      "215         1107         0\n",
      "401         1293         0\n"
     ]
    }
   ],
   "source": [
    "if PREDICT:\n",
    "    OUTPUT_DIR = '' if IN_CLOUD else './data/'\n",
    "    OUTPUT = True\n",
    "    submission = pd.DataFrame({'PassengerId': test_passenger_ids, 'Survived': predictions})\n",
    "    if OUTPUT:\n",
    "        submission.to_csv(f'{OUTPUT_DIR}submission.csv', index=False)\n",
    "        print('Done exporting !')\n",
    "    print(submission.sample(5))"
   ]
  },
  {
   "cell_type": "code",
   "execution_count": null,
   "metadata": {
    "_uuid": "1538b7a894ee44a233ac3c44c0b7759e87ec4d8d",
    "collapsed": true
   },
   "outputs": [],
   "source": []
  }
 ],
 "metadata": {
  "kernelspec": {
   "display_name": "Python 3",
   "language": "python",
   "name": "python3"
  },
  "language_info": {
   "codemirror_mode": {
    "name": "ipython",
    "version": 3
   },
   "file_extension": ".py",
   "mimetype": "text/x-python",
   "name": "python",
   "nbconvert_exporter": "python",
   "pygments_lexer": "ipython3",
   "version": "3.6.1"
  }
 },
 "nbformat": 4,
 "nbformat_minor": 1
}
