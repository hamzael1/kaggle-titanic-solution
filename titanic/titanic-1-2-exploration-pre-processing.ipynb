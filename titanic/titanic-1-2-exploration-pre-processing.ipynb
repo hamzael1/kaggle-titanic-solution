{
 "cells": [
  {
   "cell_type": "markdown",
   "metadata": {},
   "source": [
    "# Titanic (1/2): Exploration and Preprocessing"
   ]
  },
  {
   "cell_type": "markdown",
   "metadata": {},
   "source": [
    "- This is a Kernel (my first one on Kaggle) to explore and pre-process (cleaning, visualizing and feature engineering) the Titanic Dataset\n",
    "- The output will be used in my next Kernel to model, predict and score on the Test Dataset and submit my results."
   ]
  },
  {
   "cell_type": "code",
   "execution_count": 1,
   "metadata": {
    "_cell_guid": "b1076dfc-b9ad-4769-8c92-a6c4dae69d19",
    "_uuid": "8f2839f25d086af736a60e9eeb907d3b93b6e0e5"
   },
   "outputs": [],
   "source": [
    "\n",
    "import numpy as np # linear algebra\n",
    "import pandas as pd # data processing, CSV file I/O (e.g. pd.read_csv)\n"
   ]
  },
  {
   "cell_type": "markdown",
   "metadata": {
    "_uuid": "027cd6bcbd9c525c3890c0fbbc28294e1fc6e450"
   },
   "source": [
    "## Import Dataset"
   ]
  },
  {
   "cell_type": "code",
   "execution_count": 2,
   "metadata": {
    "collapsed": true
   },
   "outputs": [],
   "source": [
    "IN_CLOUD  = False\n",
    "INPUT_DIR = '../input' if IN_CLOUD else './data'"
   ]
  },
  {
   "cell_type": "code",
   "execution_count": 3,
   "metadata": {
    "_cell_guid": "79c7e3d0-c299-4dcb-8224-4455121ee9b0",
    "_uuid": "d629ff2d2480ee46fbb7e2d37f6b5fab8052498a"
   },
   "outputs": [],
   "source": [
    "train_df = pd.read_csv(f'{INPUT_DIR}/train.csv')"
   ]
  },
  {
   "cell_type": "markdown",
   "metadata": {},
   "source": [
    "#### Print types of the columns and get an overview of the Dataset by print few random rows: "
   ]
  },
  {
   "cell_type": "code",
   "execution_count": 4,
   "metadata": {
    "_uuid": "4ac58f34a729f812b2f769106c1e56f96f7fafd9"
   },
   "outputs": [
    {
     "name": "stdout",
     "output_type": "stream",
     "text": [
      "PassengerId      int64\n",
      "Survived         int64\n",
      "Pclass           int64\n",
      "Name            object\n",
      "Sex             object\n",
      "Age            float64\n",
      "SibSp            int64\n",
      "Parch            int64\n",
      "Ticket          object\n",
      "Fare           float64\n",
      "Cabin           object\n",
      "Embarked        object\n",
      "dtype: object\n"
     ]
    },
    {
     "data": {
      "text/html": [
       "<div>\n",
       "<style>\n",
       "    .dataframe thead tr:only-child th {\n",
       "        text-align: right;\n",
       "    }\n",
       "\n",
       "    .dataframe thead th {\n",
       "        text-align: left;\n",
       "    }\n",
       "\n",
       "    .dataframe tbody tr th {\n",
       "        vertical-align: top;\n",
       "    }\n",
       "</style>\n",
       "<table border=\"1\" class=\"dataframe\">\n",
       "  <thead>\n",
       "    <tr style=\"text-align: right;\">\n",
       "      <th></th>\n",
       "      <th>PassengerId</th>\n",
       "      <th>Survived</th>\n",
       "      <th>Pclass</th>\n",
       "      <th>Name</th>\n",
       "      <th>Sex</th>\n",
       "      <th>Age</th>\n",
       "      <th>SibSp</th>\n",
       "      <th>Parch</th>\n",
       "      <th>Ticket</th>\n",
       "      <th>Fare</th>\n",
       "      <th>Cabin</th>\n",
       "      <th>Embarked</th>\n",
       "    </tr>\n",
       "  </thead>\n",
       "  <tbody>\n",
       "    <tr>\n",
       "      <th>5</th>\n",
       "      <td>6</td>\n",
       "      <td>0</td>\n",
       "      <td>3</td>\n",
       "      <td>Moran, Mr. James</td>\n",
       "      <td>male</td>\n",
       "      <td>NaN</td>\n",
       "      <td>0</td>\n",
       "      <td>0</td>\n",
       "      <td>330877</td>\n",
       "      <td>8.4583</td>\n",
       "      <td>NaN</td>\n",
       "      <td>Q</td>\n",
       "    </tr>\n",
       "    <tr>\n",
       "      <th>216</th>\n",
       "      <td>217</td>\n",
       "      <td>1</td>\n",
       "      <td>3</td>\n",
       "      <td>Honkanen, Miss. Eliina</td>\n",
       "      <td>female</td>\n",
       "      <td>27.0</td>\n",
       "      <td>0</td>\n",
       "      <td>0</td>\n",
       "      <td>STON/O2. 3101283</td>\n",
       "      <td>7.9250</td>\n",
       "      <td>NaN</td>\n",
       "      <td>S</td>\n",
       "    </tr>\n",
       "    <tr>\n",
       "      <th>269</th>\n",
       "      <td>270</td>\n",
       "      <td>1</td>\n",
       "      <td>1</td>\n",
       "      <td>Bissette, Miss. Amelia</td>\n",
       "      <td>female</td>\n",
       "      <td>35.0</td>\n",
       "      <td>0</td>\n",
       "      <td>0</td>\n",
       "      <td>PC 17760</td>\n",
       "      <td>135.6333</td>\n",
       "      <td>C99</td>\n",
       "      <td>S</td>\n",
       "    </tr>\n",
       "    <tr>\n",
       "      <th>813</th>\n",
       "      <td>814</td>\n",
       "      <td>0</td>\n",
       "      <td>3</td>\n",
       "      <td>Andersson, Miss. Ebba Iris Alfrida</td>\n",
       "      <td>female</td>\n",
       "      <td>6.0</td>\n",
       "      <td>4</td>\n",
       "      <td>2</td>\n",
       "      <td>347082</td>\n",
       "      <td>31.2750</td>\n",
       "      <td>NaN</td>\n",
       "      <td>S</td>\n",
       "    </tr>\n",
       "    <tr>\n",
       "      <th>791</th>\n",
       "      <td>792</td>\n",
       "      <td>0</td>\n",
       "      <td>2</td>\n",
       "      <td>Gaskell, Mr. Alfred</td>\n",
       "      <td>male</td>\n",
       "      <td>16.0</td>\n",
       "      <td>0</td>\n",
       "      <td>0</td>\n",
       "      <td>239865</td>\n",
       "      <td>26.0000</td>\n",
       "      <td>NaN</td>\n",
       "      <td>S</td>\n",
       "    </tr>\n",
       "    <tr>\n",
       "      <th>51</th>\n",
       "      <td>52</td>\n",
       "      <td>0</td>\n",
       "      <td>3</td>\n",
       "      <td>Nosworthy, Mr. Richard Cater</td>\n",
       "      <td>male</td>\n",
       "      <td>21.0</td>\n",
       "      <td>0</td>\n",
       "      <td>0</td>\n",
       "      <td>A/4. 39886</td>\n",
       "      <td>7.8000</td>\n",
       "      <td>NaN</td>\n",
       "      <td>S</td>\n",
       "    </tr>\n",
       "    <tr>\n",
       "      <th>376</th>\n",
       "      <td>377</td>\n",
       "      <td>1</td>\n",
       "      <td>3</td>\n",
       "      <td>Landergren, Miss. Aurora Adelia</td>\n",
       "      <td>female</td>\n",
       "      <td>22.0</td>\n",
       "      <td>0</td>\n",
       "      <td>0</td>\n",
       "      <td>C 7077</td>\n",
       "      <td>7.2500</td>\n",
       "      <td>NaN</td>\n",
       "      <td>S</td>\n",
       "    </tr>\n",
       "    <tr>\n",
       "      <th>531</th>\n",
       "      <td>532</td>\n",
       "      <td>0</td>\n",
       "      <td>3</td>\n",
       "      <td>Toufik, Mr. Nakli</td>\n",
       "      <td>male</td>\n",
       "      <td>NaN</td>\n",
       "      <td>0</td>\n",
       "      <td>0</td>\n",
       "      <td>2641</td>\n",
       "      <td>7.2292</td>\n",
       "      <td>NaN</td>\n",
       "      <td>C</td>\n",
       "    </tr>\n",
       "  </tbody>\n",
       "</table>\n",
       "</div>"
      ],
      "text/plain": [
       "     PassengerId  Survived  Pclass                                Name  \\\n",
       "5              6         0       3                    Moran, Mr. James   \n",
       "216          217         1       3              Honkanen, Miss. Eliina   \n",
       "269          270         1       1              Bissette, Miss. Amelia   \n",
       "813          814         0       3  Andersson, Miss. Ebba Iris Alfrida   \n",
       "791          792         0       2                 Gaskell, Mr. Alfred   \n",
       "51            52         0       3        Nosworthy, Mr. Richard Cater   \n",
       "376          377         1       3     Landergren, Miss. Aurora Adelia   \n",
       "531          532         0       3                   Toufik, Mr. Nakli   \n",
       "\n",
       "        Sex   Age  SibSp  Parch            Ticket      Fare Cabin Embarked  \n",
       "5      male   NaN      0      0            330877    8.4583   NaN        Q  \n",
       "216  female  27.0      0      0  STON/O2. 3101283    7.9250   NaN        S  \n",
       "269  female  35.0      0      0          PC 17760  135.6333   C99        S  \n",
       "813  female   6.0      4      2            347082   31.2750   NaN        S  \n",
       "791    male  16.0      0      0            239865   26.0000   NaN        S  \n",
       "51     male  21.0      0      0        A/4. 39886    7.8000   NaN        S  \n",
       "376  female  22.0      0      0            C 7077    7.2500   NaN        S  \n",
       "531    male   NaN      0      0              2641    7.2292   NaN        C  "
      ]
     },
     "execution_count": 4,
     "metadata": {},
     "output_type": "execute_result"
    }
   ],
   "source": [
    "# Overview of the Dataset\n",
    "\n",
    "print(train_df.dtypes)\n",
    "train_df.sample(8)\n"
   ]
  },
  {
   "cell_type": "markdown",
   "metadata": {
    "_uuid": "08a1c0a44ad3d86853b7fa7f627614eaa2c8b815"
   },
   "source": [
    "### Check for Missing Values in columns:"
   ]
  },
  {
   "cell_type": "code",
   "execution_count": 5,
   "metadata": {
    "_uuid": "f535d150658f97eece0597117983ca3084a7541e"
   },
   "outputs": [
    {
     "name": "stdout",
     "output_type": "stream",
     "text": [
      "Count of Missing Values for each Column (out of 891): \n",
      "PassengerId      0\n",
      "Survived         0\n",
      "Pclass           0\n",
      "Name             0\n",
      "Sex              0\n",
      "Age            177\n",
      "SibSp            0\n",
      "Parch            0\n",
      "Ticket           0\n",
      "Fare             0\n",
      "Cabin          687\n",
      "Embarked         2\n",
      "dtype: int64\n"
     ]
    }
   ],
   "source": [
    "# Check Missing Values\n",
    "\n",
    "print(f'Count of Missing Values for each Column (out of {len(train_df)}): ')\n",
    "print(train_df.isnull().sum())\n"
   ]
  },
  {
   "cell_type": "markdown",
   "metadata": {},
   "source": [
    "##### We notice that having 891 rows, we have:\n",
    "    - 687 missing values in the 'Cabin' column, which is about 77%\n",
    "    - 177 missing values in the 'Age' column\n",
    "    - 2 missing values in the 'Embarked' column\n"
   ]
  },
  {
   "cell_type": "markdown",
   "metadata": {},
   "source": [
    "- We will drop the 'Cabin' column because it has too many missing values"
   ]
  },
  {
   "cell_type": "code",
   "execution_count": 6,
   "metadata": {},
   "outputs": [],
   "source": [
    "train_df.drop('Cabin', axis=1, inplace=True)"
   ]
  },
  {
   "cell_type": "markdown",
   "metadata": {},
   "source": [
    "- Since we only have 2 missing values in 'Embarked', we can fill them with the most occured value."
   ]
  },
  {
   "cell_type": "code",
   "execution_count": 7,
   "metadata": {},
   "outputs": [
    {
     "data": {
      "text/plain": [
       "S    644\n",
       "C    168\n",
       "Q     77\n",
       "Name: Embarked, dtype: int64"
      ]
     },
     "execution_count": 7,
     "metadata": {},
     "output_type": "execute_result"
    }
   ],
   "source": [
    "train_df['Embarked'].value_counts()"
   ]
  },
  {
   "cell_type": "code",
   "execution_count": 8,
   "metadata": {
    "_uuid": "9ae762710e2077cf83b4955809f8b8b087a91779"
   },
   "outputs": [],
   "source": [
    "\n",
    "train_df.Embarked.fillna('S', inplace=True)\n",
    "assert not train_df.Embarked.isnull().any()\n"
   ]
  },
  {
   "cell_type": "markdown",
   "metadata": {},
   "source": [
    "- We will deal with the Age column later, but for now let's fill the missing values with **the mean of all ages**.\n",
    "  \n",
    "  ( ***We will also save the rows that have missing age values to process them later again*** )"
   ]
  },
  {
   "cell_type": "code",
   "execution_count": 9,
   "metadata": {
    "_uuid": "87538e63a9415bc9a58b4352b674bfd12db5a4d8"
   },
   "outputs": [
    {
     "data": {
      "text/html": [
       "<div>\n",
       "<style>\n",
       "    .dataframe thead tr:only-child th {\n",
       "        text-align: right;\n",
       "    }\n",
       "\n",
       "    .dataframe thead th {\n",
       "        text-align: left;\n",
       "    }\n",
       "\n",
       "    .dataframe tbody tr th {\n",
       "        vertical-align: top;\n",
       "    }\n",
       "</style>\n",
       "<table border=\"1\" class=\"dataframe\">\n",
       "  <thead>\n",
       "    <tr style=\"text-align: right;\">\n",
       "      <th></th>\n",
       "      <th>PassengerId</th>\n",
       "      <th>Survived</th>\n",
       "      <th>Pclass</th>\n",
       "      <th>Name</th>\n",
       "      <th>Sex</th>\n",
       "      <th>Age</th>\n",
       "      <th>SibSp</th>\n",
       "      <th>Parch</th>\n",
       "      <th>Ticket</th>\n",
       "      <th>Fare</th>\n",
       "      <th>Embarked</th>\n",
       "    </tr>\n",
       "  </thead>\n",
       "  <tbody>\n",
       "    <tr>\n",
       "      <th>792</th>\n",
       "      <td>793</td>\n",
       "      <td>0</td>\n",
       "      <td>3</td>\n",
       "      <td>Sage, Miss. Stella Anna</td>\n",
       "      <td>female</td>\n",
       "      <td>NaN</td>\n",
       "      <td>8</td>\n",
       "      <td>2</td>\n",
       "      <td>CA. 2343</td>\n",
       "      <td>69.5500</td>\n",
       "      <td>S</td>\n",
       "    </tr>\n",
       "    <tr>\n",
       "      <th>709</th>\n",
       "      <td>710</td>\n",
       "      <td>1</td>\n",
       "      <td>3</td>\n",
       "      <td>Moubarek, Master. Halim Gonios (\"William George\")</td>\n",
       "      <td>male</td>\n",
       "      <td>NaN</td>\n",
       "      <td>1</td>\n",
       "      <td>1</td>\n",
       "      <td>2661</td>\n",
       "      <td>15.2458</td>\n",
       "      <td>C</td>\n",
       "    </tr>\n",
       "    <tr>\n",
       "      <th>859</th>\n",
       "      <td>860</td>\n",
       "      <td>0</td>\n",
       "      <td>3</td>\n",
       "      <td>Razi, Mr. Raihed</td>\n",
       "      <td>male</td>\n",
       "      <td>NaN</td>\n",
       "      <td>0</td>\n",
       "      <td>0</td>\n",
       "      <td>2629</td>\n",
       "      <td>7.2292</td>\n",
       "      <td>C</td>\n",
       "    </tr>\n",
       "  </tbody>\n",
       "</table>\n",
       "</div>"
      ],
      "text/plain": [
       "     PassengerId  Survived  Pclass  \\\n",
       "792          793         0       3   \n",
       "709          710         1       3   \n",
       "859          860         0       3   \n",
       "\n",
       "                                                  Name     Sex  Age  SibSp  \\\n",
       "792                            Sage, Miss. Stella Anna  female  NaN      8   \n",
       "709  Moubarek, Master. Halim Gonios (\"William George\")    male  NaN      1   \n",
       "859                                   Razi, Mr. Raihed    male  NaN      0   \n",
       "\n",
       "     Parch    Ticket     Fare Embarked  \n",
       "792      2  CA. 2343  69.5500        S  \n",
       "709      1      2661  15.2458        C  \n",
       "859      0      2629   7.2292        C  "
      ]
     },
     "execution_count": 9,
     "metadata": {},
     "output_type": "execute_result"
    }
   ],
   "source": [
    "missing_age_rows = train_df[train_df['Age'].isnull()].copy() # Save for later processing\n",
    "missing_age_rows.sample(3)"
   ]
  },
  {
   "cell_type": "code",
   "execution_count": 10,
   "metadata": {
    "_uuid": "0bdaacaaf7ccbe3da44d38953d7fcd35bd73a513"
   },
   "outputs": [],
   "source": [
    "train_df.Age.fillna(train_df['Age'].mean(), inplace=True)\n",
    "assert not train_df.Age.isnull().any()"
   ]
  },
  {
   "cell_type": "markdown",
   "metadata": {
    "_uuid": "2842a629d63b5f8ffa1f122bfdfed30373a5b9f6"
   },
   "source": [
    "## Some quick Visualizations & Processings on Features"
   ]
  },
  {
   "cell_type": "code",
   "execution_count": 11,
   "metadata": {
    "_uuid": "0bd5fe9d552f747fd1e918250576beba473a4b1d",
    "collapsed": true
   },
   "outputs": [],
   "source": [
    "import matplotlib.pyplot as plt\n",
    "import seaborn as sns\n",
    "%matplotlib inline"
   ]
  },
  {
   "cell_type": "code",
   "execution_count": 12,
   "metadata": {
    "collapsed": true
   },
   "outputs": [],
   "source": [
    "COLOR_SURVIVED='#57e8fc'\n",
    "COLOR_DEAD='#fc5e57'"
   ]
  },
  {
   "cell_type": "markdown",
   "metadata": {
    "_uuid": "7d84f02ff94ec8f4ad54619afb418131d243de3d"
   },
   "source": [
    "### Overall Survival Ratio\n",
    "<span style=\"color:red; font-weight: bold\">#Data Visualisation</span>"
   ]
  },
  {
   "cell_type": "code",
   "execution_count": 13,
   "metadata": {
    "_uuid": "a0954ff78d0c75d122ce0dfff99bd43d6c76236e"
   },
   "outputs": [
    {
     "data": {
      "image/png": "[encoded data removed]",
      "text/plain": [
       "<matplotlib.figure.Figure at 0x118074320>"
      ]
     },
     "metadata": {},
     "output_type": "display_data"
    }
   ],
   "source": [
    "# Survival Ratio\n",
    "\n",
    "labels = ['Dead', 'Survived']\n",
    "val_counts = train_df.Survived.value_counts()\n",
    "#print(vals)\n",
    "sizes = [val_counts[0], val_counts[1]]\n",
    "colors = [COLOR_DEAD, COLOR_SURVIVED ]\n",
    "#print(sizes)\n",
    "\n",
    "fig, ax = plt.subplots()\n",
    "ax.pie(sizes, labels=labels, shadow=True, startangle=90, explode=(0.1,0), autopct='%1.1f%%', colors=colors)\n",
    "ax.axis('equal')\n",
    "plt.title('Overall Survival Ratio')\n",
    "plt.show()\n"
   ]
  },
  {
   "cell_type": "markdown",
   "metadata": {
    "_uuid": "598dce18e6ccf48969de8d17107591d10e638182"
   },
   "source": [
    "### The \"Sex\" Feature:\n",
    "<span style=\"color:red; font-weight: bold\">#Feature Encoding  #Data Visualisation</span>"
   ]
  },
  {
   "cell_type": "markdown",
   "metadata": {
    "_uuid": "c6b0bef076548627bc90c0dc34c2943018ab76f4"
   },
   "source": [
    "#### We will convert the values in 'Sex' column to integers because it's more practical and fast"
   ]
  },
  {
   "cell_type": "code",
   "execution_count": 14,
   "metadata": {
    "collapsed": true
   },
   "outputs": [],
   "source": [
    "def encode_sex(sex_col):\n",
    "    return sex_col.map({'female': 0, 'male': 1}).astype('int')"
   ]
  },
  {
   "cell_type": "code",
   "execution_count": 15,
   "metadata": {
    "_uuid": "ad3d6dac1372671797f256b6dde90cbb15eaab9f"
   },
   "outputs": [
    {
     "name": "stdout",
     "output_type": "stream",
     "text": [
      "int64\n"
     ]
    },
    {
     "data": {
      "text/plain": [
       "array([1, 0])"
      ]
     },
     "execution_count": 15,
     "metadata": {},
     "output_type": "execute_result"
    }
   ],
   "source": [
    "train_df.Sex = encode_sex(train_df.Sex)\n",
    "print(train_df.Sex.dtype)\n",
    "train_df.Sex.unique()"
   ]
  },
  {
   "cell_type": "code",
   "execution_count": 16,
   "metadata": {},
   "outputs": [],
   "source": [
    "COLOR_MALE   = '#6699ff'\n",
    "COLOR_FEMALE = '#ff66ff'"
   ]
  },
  {
   "cell_type": "code",
   "execution_count": 17,
   "metadata": {
    "_uuid": "4797e287cf87e46047410dfa2a7436f3bc2ba3e8"
   },
   "outputs": [
    {
     "name": "stdout",
     "output_type": "stream",
     "text": [
      "1    577\n",
      "0    314\n",
      "Name: Sex, dtype: int64 ['Female', 'Male']\n"
     ]
    },
    {
     "data": {
      "image/png": "[encoded data removed]",
      "text/plain": [
       "<matplotlib.figure.Figure at 0x1180fc908>"
      ]
     },
     "metadata": {},
     "output_type": "display_data"
    }
   ],
   "source": [
    "val_counts = train_df.Sex.value_counts()\n",
    "sizes  = [val_counts[0], val_counts[1]]\n",
    "labels = ['Female', 'Male']\n",
    "colors = [COLOR_FEMALE, COLOR_MALE]\n",
    "\n",
    "print(val_counts, labels)\n",
    "fig, ax = plt.subplots()\n",
    "ax.pie(sizes, labels=labels, shadow=True, startangle=90, explode=(0.1, 0), autopct='%1.1f%%', colors= colors)\n",
    "ax.axis('equal')\n",
    "plt.title('Count of Passengers by Sex')\n",
    "plt.show()"
   ]
  },
  {
   "cell_type": "code",
   "execution_count": 18,
   "metadata": {
    "_uuid": "59bde764a7cb218b7461a1bf4da87bc944e9f051",
    "scrolled": true
   },
   "outputs": [
    {
     "name": "stdout",
     "output_type": "stream",
     "text": [
      "Survived    0    1\n",
      "Sex               \n",
      "0          81  233\n",
      "1         468  109\n"
     ]
    },
    {
     "data": {
      "image/png": "[encoded data removed]",
      "text/plain": [
       "<matplotlib.figure.Figure at 0x11a243ef0>"
      ]
     },
     "metadata": {},
     "output_type": "display_data"
    }
   ],
   "source": [
    "ct = pd.crosstab(train_df.Sex, train_df.Survived)\n",
    "\n",
    "ind = np.arange(2)\n",
    "survived_vals = [ct.loc[1][1], ct.loc[0][1]]\n",
    "dead_vals = [ct.loc[1][0], ct.loc[0][0]]\n",
    "print(ct)\n",
    "\n",
    "width=0.3\n",
    "\n",
    "plt.bar(ind, survived_vals, width, label='Survived', color=COLOR_SURVIVED)\n",
    "plt.bar(ind+width, dead_vals, width, label='Dead', color=COLOR_DEAD)\n",
    "\n",
    "plt.xticks(ind+width/2, ('Men', 'Women'))\n",
    "plt.yticks(np.arange(0, 600, 50))\n",
    "plt.legend( loc='upper right')\n",
    "plt.show()\n",
    "\n",
    "#ax.bar(ct)"
   ]
  },
  {
   "cell_type": "markdown",
   "metadata": {
    "_uuid": "026d668bcb8c807fa5693090dc37c11158d059e3"
   },
   "source": [
    "### The \"Age Category\" Feature:\n",
    "<span style=\"color:red; font-weight: bold\">#Feature Engineering #Data Visualisation</span>"
   ]
  },
  {
   "cell_type": "markdown",
   "metadata": {},
   "source": [
    "#### We create a new Feature 'AgeCat' to assign each passenger an Age Category:\n",
    "    - less than 14 years old => 0 (Kids)\n",
    "    - 14 ~ 22 years old      => 1 (Teens)\n",
    "    - 22 ~ 35 years old      => 2 (Adults)\n",
    "    - 35 ~ 50 years old      => 3 (Bid Adults)\n",
    "    - more than 50 years old => 4 (Seniors)"
   ]
  },
  {
   "cell_type": "code",
   "execution_count": 19,
   "metadata": {
    "collapsed": true
   },
   "outputs": [],
   "source": [
    "def construct_age_cat_col(age_col):\n",
    "    age_cat_col = pd.Series([-1] * len(age_col))\n",
    "    for i, val in age_col.iteritems():\n",
    "        if val < 14:                 # Kids\n",
    "            age_cat_col[i] = 0\n",
    "        elif val >= 14 and val < 22: # Teens\n",
    "            age_cat_col[i] = 1\n",
    "        elif val >= 22 and val < 35: # Adults\n",
    "            age_cat_col[i] = 2\n",
    "        elif val >= 35 and val < 50: # Big Adults\n",
    "            age_cat_col[i] = 3\n",
    "        elif val >= 50:              # Seniors\n",
    "            age_cat_col[i] = 4\n",
    "        else:\n",
    "            raise ValueError('Preprocessing Age: Age Value unsupported ! ', val)\n",
    "    return age_cat_col"
   ]
  },
  {
   "cell_type": "code",
   "execution_count": 20,
   "metadata": {
    "_uuid": "9ea557c60890a82a9aacdfc6d7481f18f2ab3f11"
   },
   "outputs": [
    {
     "name": "stdout",
     "output_type": "stream",
     "text": [
      "Information about the ages of the passengers:\n"
     ]
    },
    {
     "data": {
      "text/html": [
       "<div>\n",
       "<style>\n",
       "    .dataframe thead tr:only-child th {\n",
       "        text-align: right;\n",
       "    }\n",
       "\n",
       "    .dataframe thead th {\n",
       "        text-align: left;\n",
       "    }\n",
       "\n",
       "    .dataframe tbody tr th {\n",
       "        vertical-align: top;\n",
       "    }\n",
       "</style>\n",
       "<table border=\"1\" class=\"dataframe\">\n",
       "  <thead>\n",
       "    <tr style=\"text-align: right;\">\n",
       "      <th></th>\n",
       "      <th>PassengerId</th>\n",
       "      <th>Survived</th>\n",
       "      <th>Pclass</th>\n",
       "      <th>Name</th>\n",
       "      <th>Sex</th>\n",
       "      <th>Age</th>\n",
       "      <th>SibSp</th>\n",
       "      <th>Parch</th>\n",
       "      <th>Ticket</th>\n",
       "      <th>Fare</th>\n",
       "      <th>Embarked</th>\n",
       "      <th>AgeCat</th>\n",
       "    </tr>\n",
       "  </thead>\n",
       "  <tbody>\n",
       "    <tr>\n",
       "      <th>831</th>\n",
       "      <td>832</td>\n",
       "      <td>1</td>\n",
       "      <td>2</td>\n",
       "      <td>Richards, Master. George Sibley</td>\n",
       "      <td>1</td>\n",
       "      <td>0.83</td>\n",
       "      <td>1</td>\n",
       "      <td>1</td>\n",
       "      <td>29106</td>\n",
       "      <td>18.7500</td>\n",
       "      <td>S</td>\n",
       "      <td>0</td>\n",
       "    </tr>\n",
       "    <tr>\n",
       "      <th>483</th>\n",
       "      <td>484</td>\n",
       "      <td>1</td>\n",
       "      <td>3</td>\n",
       "      <td>Turkula, Mrs. (Hedwig)</td>\n",
       "      <td>0</td>\n",
       "      <td>63.00</td>\n",
       "      <td>0</td>\n",
       "      <td>0</td>\n",
       "      <td>4134</td>\n",
       "      <td>9.5875</td>\n",
       "      <td>S</td>\n",
       "      <td>4</td>\n",
       "    </tr>\n",
       "    <tr>\n",
       "      <th>325</th>\n",
       "      <td>326</td>\n",
       "      <td>1</td>\n",
       "      <td>1</td>\n",
       "      <td>Young, Miss. Marie Grice</td>\n",
       "      <td>0</td>\n",
       "      <td>36.00</td>\n",
       "      <td>0</td>\n",
       "      <td>0</td>\n",
       "      <td>PC 17760</td>\n",
       "      <td>135.6333</td>\n",
       "      <td>C</td>\n",
       "      <td>3</td>\n",
       "    </tr>\n",
       "    <tr>\n",
       "      <th>315</th>\n",
       "      <td>316</td>\n",
       "      <td>1</td>\n",
       "      <td>3</td>\n",
       "      <td>Nilsson, Miss. Helmina Josefina</td>\n",
       "      <td>0</td>\n",
       "      <td>26.00</td>\n",
       "      <td>0</td>\n",
       "      <td>0</td>\n",
       "      <td>347470</td>\n",
       "      <td>7.8542</td>\n",
       "      <td>S</td>\n",
       "      <td>2</td>\n",
       "    </tr>\n",
       "    <tr>\n",
       "      <th>647</th>\n",
       "      <td>648</td>\n",
       "      <td>1</td>\n",
       "      <td>1</td>\n",
       "      <td>Simonius-Blumer, Col. Oberst Alfons</td>\n",
       "      <td>1</td>\n",
       "      <td>56.00</td>\n",
       "      <td>0</td>\n",
       "      <td>0</td>\n",
       "      <td>13213</td>\n",
       "      <td>35.5000</td>\n",
       "      <td>C</td>\n",
       "      <td>4</td>\n",
       "    </tr>\n",
       "  </tbody>\n",
       "</table>\n",
       "</div>"
      ],
      "text/plain": [
       "     PassengerId  Survived  Pclass                                 Name  Sex  \\\n",
       "831          832         1       2      Richards, Master. George Sibley    1   \n",
       "483          484         1       3               Turkula, Mrs. (Hedwig)    0   \n",
       "325          326         1       1             Young, Miss. Marie Grice    0   \n",
       "315          316         1       3      Nilsson, Miss. Helmina Josefina    0   \n",
       "647          648         1       1  Simonius-Blumer, Col. Oberst Alfons    1   \n",
       "\n",
       "       Age  SibSp  Parch    Ticket      Fare Embarked  AgeCat  \n",
       "831   0.83      1      1     29106   18.7500        S       0  \n",
       "483  63.00      0      0      4134    9.5875        S       4  \n",
       "325  36.00      0      0  PC 17760  135.6333        C       3  \n",
       "315  26.00      0      0    347470    7.8542        S       2  \n",
       "647  56.00      0      0     13213   35.5000        C       4  "
      ]
     },
     "execution_count": 20,
     "metadata": {},
     "output_type": "execute_result"
    }
   ],
   "source": [
    "print('Information about the ages of the passengers:')\n",
    "#print(train_df.Age.describe())\n",
    "\n",
    "train_df['AgeCat'] = construct_age_cat_col(train_df.Age)\n",
    "\n",
    "train_df.sample(5)"
   ]
  },
  {
   "cell_type": "markdown",
   "metadata": {},
   "source": [
    "#### Proportion of each Age Category"
   ]
  },
  {
   "cell_type": "code",
   "execution_count": 21,
   "metadata": {},
   "outputs": [
    {
     "name": "stdout",
     "output_type": "stream",
     "text": [
      "[0, 1, 2, 3, 4]\n"
     ]
    }
   ],
   "source": [
    "labels = ['Kids', 'Teens', 'Adults', 'Big Adults', 'Seniors']\n",
    "\n",
    "ct = pd.crosstab(train_df.AgeCat, train_df.Survived, margins=True)\n",
    "cats = list(ct.index.values)\n",
    "cats.remove('All') # Remove the 'All' row which contains the total (the Margin that we added in crosstab)\n",
    "cats.sort()\n",
    "print(cats)\n"
   ]
  },
  {
   "cell_type": "code",
   "execution_count": 22,
   "metadata": {},
   "outputs": [
    {
     "name": "stdout",
     "output_type": "stream",
     "text": [
      "[71, 133, 452, 161, 74]\n"
     ]
    },
    {
     "data": {
      "image/png": "[encoded data removed]",
      "text/plain": [
       "<matplotlib.figure.Figure at 0x1181a30b8>"
      ]
     },
     "metadata": {},
     "output_type": "display_data"
    }
   ],
   "source": [
    "sizes = list(ct.loc[cats, 'All'])\n",
    "print(sizes)\n",
    "fig, ax = plt.subplots()\n",
    "ax.pie(sizes, labels=labels, shadow=True, startangle=90, autopct='%1.1f%%')\n",
    "ax.axis('equal')\n",
    "plt.title('Count of Passengers by Age Category')\n",
    "plt.show()"
   ]
  },
  {
   "cell_type": "markdown",
   "metadata": {},
   "source": [
    "#### Survivants by Age Category"
   ]
  },
  {
   "cell_type": "code",
   "execution_count": 23,
   "metadata": {
    "_uuid": "a1456da16abab80a5627ead149cac06e263594a4"
   },
   "outputs": [
    {
     "data": {
      "image/png": "[encoded data removed]",
      "text/plain": [
       "<matplotlib.figure.Figure at 0x11a438c18>"
      ]
     },
     "metadata": {},
     "output_type": "display_data"
    }
   ],
   "source": [
    "ind = np.arange(5)\n",
    "width = 0.25\n",
    "\n",
    "survivants_values = list(ct.loc[cats, 1])\n",
    "deads_values = list(ct.loc[cats, 0])\n",
    "\n",
    "\n",
    "plt.bar(ind,  survivants_values, width, label='Survived', color=COLOR_SURVIVED)\n",
    "plt.bar(ind+width, deads_values, width, label='Dead', color=COLOR_DEAD)\n",
    "\n",
    "plt.xticks(ind+width/2, ('Kids', 'Teens', 'Adults', 'Big Adults','Seniors'))\n",
    "plt.yticks(np.arange(0, 300, 25))\n",
    "plt.legend(loc='upper right')\n",
    "plt.show()"
   ]
  },
  {
   "cell_type": "markdown",
   "metadata": {
    "_uuid": "521696f26016028b51572aec97b6a64df9aa0d15"
   },
   "source": [
    "### The \"Passenger Class\" Feature:\n",
    "<span style=\"color:red; font-weight: bold\">#Data Visualisation</span>"
   ]
  },
  {
   "cell_type": "code",
   "execution_count": 24,
   "metadata": {
    "_uuid": "56548f7f6519bd1c542c09503b722c5ded73f9ba"
   },
   "outputs": [
    {
     "name": "stdout",
     "output_type": "stream",
     "text": [
      "[1, 2, 3]\n"
     ]
    }
   ],
   "source": [
    "ct = pd.crosstab(train_df.Pclass, train_df.Survived, margins=True)\n",
    "cats = list(ct.index.values)\n",
    "cats.remove('All') # Remove the 'All' row which contains the total (the Margin that we added in crosstab)\n",
    "cats.sort()\n",
    "print(cats)\n"
   ]
  },
  {
   "cell_type": "code",
   "execution_count": 25,
   "metadata": {
    "_uuid": "fc28e79295fd85eb9d283121d0dc9f5c04dda898"
   },
   "outputs": [
    {
     "name": "stdout",
     "output_type": "stream",
     "text": [
      "[216, 184, 491]\n"
     ]
    },
    {
     "data": {
      "image/png": "[encoded data removed]",
      "text/plain": [
       "<matplotlib.figure.Figure at 0x11a4e7208>"
      ]
     },
     "metadata": {},
     "output_type": "display_data"
    }
   ],
   "source": [
    "sizes = list(ct.loc[cats, 'All'])\n",
    "print(sizes)\n",
    "labels = ['Class 1', 'Class 2', 'Class 3']\n",
    "fig, ax = plt.subplots()\n",
    "ax.pie(sizes, labels=labels, shadow=True, startangle=90, autopct='%1.1f%%')\n",
    "ax.axis('equal')\n",
    "plt.title('Count of Passengers by Class')\n",
    "plt.show()"
   ]
  },
  {
   "cell_type": "code",
   "execution_count": 26,
   "metadata": {
    "_uuid": "1c0272d0beaa17b73c30797bc0e71f20c63f06c2"
   },
   "outputs": [
    {
     "data": {
      "image/png": "[encoded data removed]",
      "text/plain": [
       "<matplotlib.figure.Figure at 0x11a7b75c0>"
      ]
     },
     "metadata": {},
     "output_type": "display_data"
    }
   ],
   "source": [
    "\n",
    "survivants_values = list(ct.loc[cats, 1])\n",
    "deads_values = list(ct.loc[cats, 0])\n",
    "\n",
    "ind = np.arange(3)\n",
    "width = 0.2\n",
    "plt.bar(ind, survivants_values, width, label='Survived', color=COLOR_SURVIVED)\n",
    "plt.bar(ind+width, deads_values, width, label='Dead', color=COLOR_DEAD)\n",
    "\n",
    "plt.xticks(ind+width/2, ('1', '2', '3') )\n",
    "plt.yticks(np.arange(0, 500, 50))\n",
    "plt.legend(loc='upper right')\n",
    "plt.show()"
   ]
  },
  {
   "cell_type": "markdown",
   "metadata": {
    "_uuid": "cfc57a4d03ed4bdc7f40c8e6b71355168c1eb0fd"
   },
   "source": [
    "### The \"Embarked\" Feature: \n",
    "<span style=\"color:red; font-weight: bold\">#Data_Visualisation</span>"
   ]
  },
  {
   "cell_type": "code",
   "execution_count": 27,
   "metadata": {},
   "outputs": [
    {
     "name": "stdout",
     "output_type": "stream",
     "text": [
      "['C', 'Q', 'S']\n"
     ]
    }
   ],
   "source": [
    "ct = pd.crosstab(train_df.Embarked, train_df.Survived, margins=True)\n",
    "cats = list(ct.index.values)\n",
    "cats.remove('All') # Remove the 'All' row which contains the total (the Margin that we added in crosstab)\n",
    "print(cats)\n"
   ]
  },
  {
   "cell_type": "code",
   "execution_count": 28,
   "metadata": {
    "_uuid": "af690ccbe002cad6220c82d0f0febe93fefed9f3"
   },
   "outputs": [
    {
     "name": "stdout",
     "output_type": "stream",
     "text": [
      "[168, 77, 646]\n"
     ]
    },
    {
     "data": {
      "image/png": "[encoded data removed]",
      "text/plain": [
       "<matplotlib.figure.Figure at 0x11a891cf8>"
      ]
     },
     "metadata": {},
     "output_type": "display_data"
    }
   ],
   "source": [
    "sizes = list(ct.loc[cats, 'All'])\n",
    "labels=cats\n",
    "print(sizes)\n",
    "fig, ax = plt.subplots()\n",
    "ax.pie(sizes, labels=labels, shadow=True, startangle=90, autopct='%1.1f%%')\n",
    "ax.axis('equal')\n",
    "plt.title('Count of passengers by Embarked')\n",
    "plt.show()"
   ]
  },
  {
   "cell_type": "code",
   "execution_count": 29,
   "metadata": {},
   "outputs": [
    {
     "data": {
      "image/png": "[encoded data removed]",
      "text/plain": [
       "<matplotlib.figure.Figure at 0x11a8ab828>"
      ]
     },
     "metadata": {},
     "output_type": "display_data"
    }
   ],
   "source": [
    "\n",
    "survivants_values = list(ct.loc[cats, 1])\n",
    "deads_values = list(ct.loc[cats, 0])\n",
    "\n",
    "ind = np.arange(len(cats))\n",
    "width = 0.2\n",
    "plt.bar(ind, survivants_values, width, label='Survived', color=COLOR_SURVIVED)\n",
    "plt.bar(ind+width, deads_values, width, label='Dead', color=COLOR_DEAD)\n",
    "\n",
    "plt.xticks(ind+width/2, (cats) )\n",
    "plt.yticks(np.arange(0, 500, 50))\n",
    "plt.legend(loc='upper right')\n",
    "plt.show()"
   ]
  },
  {
   "cell_type": "markdown",
   "metadata": {
    "_uuid": "1ba9d2794e8880fa4f87ee6277ab948724e3a828"
   },
   "source": [
    "### The \"Number of Relatives\" Feature:\n",
    "<span style=\"color:red; font-weight: bold\">#Feature Engineering #Data_Visualisation</span>"
   ]
  },
  {
   "cell_type": "markdown",
   "metadata": {
    "_uuid": "c19cf08609a92ebfc469d39369d0039c80850b3a"
   },
   "source": [
    "- We use the columns ***'SibSp'*** (number of Siblings and Spouses) and ***'Parch'*** (number of Parents and Children) to engineer a new Feature called ***'NbrRelatives'*** which is the total number of relatives for the passenger on board."
   ]
  },
  {
   "cell_type": "code",
   "execution_count": 30,
   "metadata": {
    "_uuid": "ff846b90dfba637685d1366c815bbbf4cb569411",
    "collapsed": true
   },
   "outputs": [],
   "source": [
    "def construct_nbr_relatives_col(sibsp_col, parch_col):\n",
    "    return sibsp_col+parch_col"
   ]
  },
  {
   "cell_type": "code",
   "execution_count": 31,
   "metadata": {
    "scrolled": true
   },
   "outputs": [
    {
     "data": {
      "text/html": [
       "<div>\n",
       "<style>\n",
       "    .dataframe thead tr:only-child th {\n",
       "        text-align: right;\n",
       "    }\n",
       "\n",
       "    .dataframe thead th {\n",
       "        text-align: left;\n",
       "    }\n",
       "\n",
       "    .dataframe tbody tr th {\n",
       "        vertical-align: top;\n",
       "    }\n",
       "</style>\n",
       "<table border=\"1\" class=\"dataframe\">\n",
       "  <thead>\n",
       "    <tr style=\"text-align: right;\">\n",
       "      <th></th>\n",
       "      <th>PassengerId</th>\n",
       "      <th>Survived</th>\n",
       "      <th>Pclass</th>\n",
       "      <th>Name</th>\n",
       "      <th>Sex</th>\n",
       "      <th>Age</th>\n",
       "      <th>SibSp</th>\n",
       "      <th>Parch</th>\n",
       "      <th>Ticket</th>\n",
       "      <th>Fare</th>\n",
       "      <th>Embarked</th>\n",
       "      <th>AgeCat</th>\n",
       "      <th>NbrRelatives</th>\n",
       "    </tr>\n",
       "  </thead>\n",
       "  <tbody>\n",
       "    <tr>\n",
       "      <th>5</th>\n",
       "      <td>6</td>\n",
       "      <td>0</td>\n",
       "      <td>3</td>\n",
       "      <td>Moran, Mr. James</td>\n",
       "      <td>1</td>\n",
       "      <td>29.699118</td>\n",
       "      <td>0</td>\n",
       "      <td>0</td>\n",
       "      <td>330877</td>\n",
       "      <td>8.4583</td>\n",
       "      <td>Q</td>\n",
       "      <td>2</td>\n",
       "      <td>0</td>\n",
       "    </tr>\n",
       "    <tr>\n",
       "      <th>12</th>\n",
       "      <td>13</td>\n",
       "      <td>0</td>\n",
       "      <td>3</td>\n",
       "      <td>Saundercock, Mr. William Henry</td>\n",
       "      <td>1</td>\n",
       "      <td>20.000000</td>\n",
       "      <td>0</td>\n",
       "      <td>0</td>\n",
       "      <td>A/5. 2151</td>\n",
       "      <td>8.0500</td>\n",
       "      <td>S</td>\n",
       "      <td>1</td>\n",
       "      <td>0</td>\n",
       "    </tr>\n",
       "    <tr>\n",
       "      <th>436</th>\n",
       "      <td>437</td>\n",
       "      <td>0</td>\n",
       "      <td>3</td>\n",
       "      <td>Ford, Miss. Doolina Margaret \"Daisy\"</td>\n",
       "      <td>0</td>\n",
       "      <td>21.000000</td>\n",
       "      <td>2</td>\n",
       "      <td>2</td>\n",
       "      <td>W./C. 6608</td>\n",
       "      <td>34.3750</td>\n",
       "      <td>S</td>\n",
       "      <td>1</td>\n",
       "      <td>4</td>\n",
       "    </tr>\n",
       "  </tbody>\n",
       "</table>\n",
       "</div>"
      ],
      "text/plain": [
       "     PassengerId  Survived  Pclass                                  Name  Sex  \\\n",
       "5              6         0       3                      Moran, Mr. James    1   \n",
       "12            13         0       3        Saundercock, Mr. William Henry    1   \n",
       "436          437         0       3  Ford, Miss. Doolina Margaret \"Daisy\"    0   \n",
       "\n",
       "           Age  SibSp  Parch      Ticket     Fare Embarked  AgeCat  \\\n",
       "5    29.699118      0      0      330877   8.4583        Q       2   \n",
       "12   20.000000      0      0   A/5. 2151   8.0500        S       1   \n",
       "436  21.000000      2      2  W./C. 6608  34.3750        S       1   \n",
       "\n",
       "     NbrRelatives  \n",
       "5               0  \n",
       "12              0  \n",
       "436             4  "
      ]
     },
     "execution_count": 31,
     "metadata": {},
     "output_type": "execute_result"
    }
   ],
   "source": [
    "train_df['NbrRelatives'] = construct_nbr_relatives_col(train_df['SibSp'], train_df['Parch'])\n",
    "train_df.sample(3)"
   ]
  },
  {
   "cell_type": "code",
   "execution_count": 32,
   "metadata": {},
   "outputs": [
    {
     "name": "stdout",
     "output_type": "stream",
     "text": [
      "[0, 1, 2, 3, 4, 5, 6, 7, 10]\n"
     ]
    }
   ],
   "source": [
    "ct = pd.crosstab(train_df.NbrRelatives, train_df.Survived)\n",
    "\n",
    "cats = list(ct.index.values)\n",
    "print(cats)\n",
    "\n",
    "survivants_vals = ct.loc[:, 1]\n",
    "deads_vals = ct.loc[:, 0]"
   ]
  },
  {
   "cell_type": "code",
   "execution_count": 33,
   "metadata": {},
   "outputs": [
    {
     "data": {
      "image/png": "[encoded data removed]",
      "text/plain": [
       "<matplotlib.figure.Figure at 0x11a7a6cc0>"
      ]
     },
     "metadata": {},
     "output_type": "display_data"
    }
   ],
   "source": [
    "ind = np.arange(len(cats))\n",
    "width = 0.2\n",
    "plt.bar(ind, survivants_vals, width, label='Survived' , color=COLOR_SURVIVED)\n",
    "plt.bar(ind+width, deads_vals, width, label='Dead', color=COLOR_DEAD)\n",
    "plt.xticks(ind+width/2, cats)\n",
    "plt.legend(loc='upper right')\n",
    "plt.show()"
   ]
  },
  {
   "cell_type": "markdown",
   "metadata": {},
   "source": [
    "- Drop the **'SibSp'** and **'Parch'** Columns"
   ]
  },
  {
   "cell_type": "code",
   "execution_count": 34,
   "metadata": {
    "collapsed": true
   },
   "outputs": [],
   "source": [
    "train_df.drop(['SibSp', 'Parch'], axis=1, inplace=True)"
   ]
  },
  {
   "cell_type": "markdown",
   "metadata": {
    "_uuid": "2fd309db9ef364d8dcfee0872905b3e8c30e6b98"
   },
   "source": [
    "### The \"IsAlone\" Feature ?\n",
    "<span style=\"color:red; font-weight: bold\">#Feature Engineering #Data_Visualisation</span>"
   ]
  },
  {
   "cell_type": "markdown",
   "metadata": {},
   "source": [
    "- We continue by identifying the passengers who are alone (who don't have relatives on board) using a new Feature **'IsAlone'**"
   ]
  },
  {
   "cell_type": "markdown",
   "metadata": {},
   "source": [
    "#### Create the IsAlone Feature:"
   ]
  },
  {
   "cell_type": "code",
   "execution_count": 35,
   "metadata": {
    "collapsed": true
   },
   "outputs": [],
   "source": [
    "def construct_is_alone_col(nbr_relatives_col):\n",
    "    return nbr_relatives_col.apply(lambda x: True if x == 0 else False)"
   ]
  },
  {
   "cell_type": "code",
   "execution_count": 36,
   "metadata": {
    "_uuid": "6a967fb9260c8a1a7442db5068f01e35ba9a8cf5"
   },
   "outputs": [
    {
     "data": {
      "text/html": [
       "<div>\n",
       "<style>\n",
       "    .dataframe thead tr:only-child th {\n",
       "        text-align: right;\n",
       "    }\n",
       "\n",
       "    .dataframe thead th {\n",
       "        text-align: left;\n",
       "    }\n",
       "\n",
       "    .dataframe tbody tr th {\n",
       "        vertical-align: top;\n",
       "    }\n",
       "</style>\n",
       "<table border=\"1\" class=\"dataframe\">\n",
       "  <thead>\n",
       "    <tr style=\"text-align: right;\">\n",
       "      <th></th>\n",
       "      <th>PassengerId</th>\n",
       "      <th>Survived</th>\n",
       "      <th>Pclass</th>\n",
       "      <th>Name</th>\n",
       "      <th>Sex</th>\n",
       "      <th>Age</th>\n",
       "      <th>Ticket</th>\n",
       "      <th>Fare</th>\n",
       "      <th>Embarked</th>\n",
       "      <th>AgeCat</th>\n",
       "      <th>NbrRelatives</th>\n",
       "      <th>IsAlone</th>\n",
       "    </tr>\n",
       "  </thead>\n",
       "  <tbody>\n",
       "    <tr>\n",
       "      <th>709</th>\n",
       "      <td>710</td>\n",
       "      <td>1</td>\n",
       "      <td>3</td>\n",
       "      <td>Moubarek, Master. Halim Gonios (\"William George\")</td>\n",
       "      <td>1</td>\n",
       "      <td>29.699118</td>\n",
       "      <td>2661</td>\n",
       "      <td>15.2458</td>\n",
       "      <td>C</td>\n",
       "      <td>2</td>\n",
       "      <td>2</td>\n",
       "      <td>False</td>\n",
       "    </tr>\n",
       "    <tr>\n",
       "      <th>310</th>\n",
       "      <td>311</td>\n",
       "      <td>1</td>\n",
       "      <td>1</td>\n",
       "      <td>Hays, Miss. Margaret Bechstein</td>\n",
       "      <td>0</td>\n",
       "      <td>24.000000</td>\n",
       "      <td>11767</td>\n",
       "      <td>83.1583</td>\n",
       "      <td>C</td>\n",
       "      <td>2</td>\n",
       "      <td>0</td>\n",
       "      <td>True</td>\n",
       "    </tr>\n",
       "    <tr>\n",
       "      <th>453</th>\n",
       "      <td>454</td>\n",
       "      <td>1</td>\n",
       "      <td>1</td>\n",
       "      <td>Goldenberg, Mr. Samuel L</td>\n",
       "      <td>1</td>\n",
       "      <td>49.000000</td>\n",
       "      <td>17453</td>\n",
       "      <td>89.1042</td>\n",
       "      <td>C</td>\n",
       "      <td>3</td>\n",
       "      <td>1</td>\n",
       "      <td>False</td>\n",
       "    </tr>\n",
       "  </tbody>\n",
       "</table>\n",
       "</div>"
      ],
      "text/plain": [
       "     PassengerId  Survived  Pclass  \\\n",
       "709          710         1       3   \n",
       "310          311         1       1   \n",
       "453          454         1       1   \n",
       "\n",
       "                                                  Name  Sex        Age Ticket  \\\n",
       "709  Moubarek, Master. Halim Gonios (\"William George\")    1  29.699118   2661   \n",
       "310                     Hays, Miss. Margaret Bechstein    0  24.000000  11767   \n",
       "453                           Goldenberg, Mr. Samuel L    1  49.000000  17453   \n",
       "\n",
       "        Fare Embarked  AgeCat  NbrRelatives  IsAlone  \n",
       "709  15.2458        C       2             2    False  \n",
       "310  83.1583        C       2             0     True  \n",
       "453  89.1042        C       3             1    False  "
      ]
     },
     "execution_count": 36,
     "metadata": {},
     "output_type": "execute_result"
    }
   ],
   "source": [
    "train_df['IsAlone'] = construct_is_alone_col(train_df.NbrRelatives)\n",
    "train_df.sample(3)"
   ]
  },
  {
   "cell_type": "markdown",
   "metadata": {},
   "source": [
    "#### Visualization of Survival counts by IsAlone  :"
   ]
  },
  {
   "cell_type": "code",
   "execution_count": 37,
   "metadata": {},
   "outputs": [
    {
     "data": {
      "image/png": "[encoded data removed]",
      "text/plain": [
       "<matplotlib.figure.Figure at 0x11a6ffa90>"
      ]
     },
     "metadata": {},
     "output_type": "display_data"
    }
   ],
   "source": [
    "ct = pd.crosstab(train_df.IsAlone, train_df.Survived)\n",
    "cats = ['Alone' if x is True else 'Not Alone' for x in list(ct.index.values)]\n",
    "\n",
    "survivants_values = list(ct.loc[:, 1])\n",
    "deads_values = list(ct.loc[:, 0])\n",
    "\n",
    "ind = np.arange(len(cats))\n",
    "width = 0.3\n",
    "plt.bar(ind, survivants_values, width, label='Survived', color=COLOR_SURVIVED)\n",
    "plt.bar(ind+width, deads_values, width, label='Dead', color=COLOR_DEAD)\n",
    "\n",
    "plt.xticks(ind+width/2, (cats) )\n",
    "plt.yticks(np.arange(0, 500, 50))\n",
    "plt.legend(loc='upper right')\n",
    "plt.show()"
   ]
  },
  {
   "cell_type": "markdown",
   "metadata": {},
   "source": [
    "### The \"Title\" Feature: \n",
    "\n",
    "<span style=\"color:red; font-weight: bold\">#Feature Engineering #Data_Visualization</span>"
   ]
  },
  {
   "cell_type": "markdown",
   "metadata": {},
   "source": [
    "#### Create and Explore the Title Feature: \n",
    "\n",
    "- In the **'Name'** Column, we notice that there is a pattern. We can extract the **Title** of each passenger into its own feature. It can be useful because it gives us some information about the socio-economic class of the passenger"
   ]
  },
  {
   "cell_type": "code",
   "execution_count": 38,
   "metadata": {},
   "outputs": [
    {
     "name": "stdout",
     "output_type": "stream",
     "text": [
      "Counts of different Titles:\n"
     ]
    },
    {
     "data": {
      "text/plain": [
       "Mr          517\n",
       "Miss        182\n",
       "Mrs         125\n",
       "Master       40\n",
       "Dr            7\n",
       "Rev           6\n",
       "Col           2\n",
       "Mlle          2\n",
       "Major         2\n",
       "Jonkheer      1\n",
       "Capt          1\n",
       "Mme           1\n",
       "Ms            1\n",
       "Countess      1\n",
       "Don           1\n",
       "Sir           1\n",
       "Lady          1\n",
       "Name: Title, dtype: int64"
      ]
     },
     "execution_count": 38,
     "metadata": {},
     "output_type": "execute_result"
    }
   ],
   "source": [
    "train_df['Title'] = train_df['Name'].str.extract(r'([A-Za-z]*)\\.', expand=False)\n",
    "print('Counts of different Titles:')\n",
    "train_df['Title'].value_counts()"
   ]
  },
  {
   "cell_type": "markdown",
   "metadata": {},
   "source": [
    "- We can see that many Titles don't occur very much, so we can collect them under a new Title called ***'Rare'***"
   ]
  },
  {
   "cell_type": "code",
   "execution_count": 39,
   "metadata": {},
   "outputs": [
    {
     "data": {
      "text/html": [
       "<div>\n",
       "<style>\n",
       "    .dataframe thead tr:only-child th {\n",
       "        text-align: right;\n",
       "    }\n",
       "\n",
       "    .dataframe thead th {\n",
       "        text-align: left;\n",
       "    }\n",
       "\n",
       "    .dataframe tbody tr th {\n",
       "        vertical-align: top;\n",
       "    }\n",
       "</style>\n",
       "<table border=\"1\" class=\"dataframe\">\n",
       "  <thead>\n",
       "    <tr style=\"text-align: right;\">\n",
       "      <th></th>\n",
       "      <th>PassengerId</th>\n",
       "      <th>Survived</th>\n",
       "      <th>Pclass</th>\n",
       "      <th>Name</th>\n",
       "      <th>Sex</th>\n",
       "      <th>Age</th>\n",
       "      <th>Ticket</th>\n",
       "      <th>Fare</th>\n",
       "      <th>Embarked</th>\n",
       "      <th>AgeCat</th>\n",
       "      <th>NbrRelatives</th>\n",
       "      <th>IsAlone</th>\n",
       "      <th>Title</th>\n",
       "    </tr>\n",
       "  </thead>\n",
       "  <tbody>\n",
       "    <tr>\n",
       "      <th>660</th>\n",
       "      <td>661</td>\n",
       "      <td>1</td>\n",
       "      <td>1</td>\n",
       "      <td>Frauenthal, Dr. Henry William</td>\n",
       "      <td>1</td>\n",
       "      <td>50.0</td>\n",
       "      <td>PC 17611</td>\n",
       "      <td>133.65</td>\n",
       "      <td>S</td>\n",
       "      <td>4</td>\n",
       "      <td>2</td>\n",
       "      <td>False</td>\n",
       "      <td>Rare</td>\n",
       "    </tr>\n",
       "    <tr>\n",
       "      <th>317</th>\n",
       "      <td>318</td>\n",
       "      <td>0</td>\n",
       "      <td>2</td>\n",
       "      <td>Moraweck, Dr. Ernest</td>\n",
       "      <td>1</td>\n",
       "      <td>54.0</td>\n",
       "      <td>29011</td>\n",
       "      <td>14.00</td>\n",
       "      <td>S</td>\n",
       "      <td>4</td>\n",
       "      <td>0</td>\n",
       "      <td>True</td>\n",
       "      <td>Rare</td>\n",
       "    </tr>\n",
       "    <tr>\n",
       "      <th>745</th>\n",
       "      <td>746</td>\n",
       "      <td>0</td>\n",
       "      <td>1</td>\n",
       "      <td>Crosby, Capt. Edward Gifford</td>\n",
       "      <td>1</td>\n",
       "      <td>70.0</td>\n",
       "      <td>WE/P 5735</td>\n",
       "      <td>71.00</td>\n",
       "      <td>S</td>\n",
       "      <td>4</td>\n",
       "      <td>2</td>\n",
       "      <td>False</td>\n",
       "      <td>Rare</td>\n",
       "    </tr>\n",
       "  </tbody>\n",
       "</table>\n",
       "</div>"
      ],
      "text/plain": [
       "     PassengerId  Survived  Pclass                           Name  Sex   Age  \\\n",
       "660          661         1       1  Frauenthal, Dr. Henry William    1  50.0   \n",
       "317          318         0       2           Moraweck, Dr. Ernest    1  54.0   \n",
       "745          746         0       1   Crosby, Capt. Edward Gifford    1  70.0   \n",
       "\n",
       "        Ticket    Fare Embarked  AgeCat  NbrRelatives  IsAlone Title  \n",
       "660   PC 17611  133.65        S       4             2    False  Rare  \n",
       "317      29011   14.00        S       4             0     True  Rare  \n",
       "745  WE/P 5735   71.00        S       4             2    False  Rare  "
      ]
     },
     "execution_count": 39,
     "metadata": {},
     "output_type": "execute_result"
    }
   ],
   "source": [
    "rare_titles = ['Jonkheer', 'Don', 'Sir', 'Countess', 'Capt', 'Jonkheer', 'Dona', 'Major', 'Dr', 'Rev', 'Col', 'Lady']\n",
    "train_df['Title'].replace(rare_titles, 'Rare', inplace=True)\n",
    "train_df[train_df['Title'] == 'Rare'].sample(3)"
   ]
  },
  {
   "cell_type": "markdown",
   "metadata": {},
   "source": [
    "- Gather the Female titles which aren't useful for prediction into one Title (Miss)"
   ]
  },
  {
   "cell_type": "code",
   "execution_count": 40,
   "metadata": {
    "collapsed": true
   },
   "outputs": [],
   "source": [
    "train_df['Title'].replace(['Ms', 'Mme', 'Mlle', 'Mrs'], 'Miss', inplace=True)"
   ]
  },
  {
   "cell_type": "markdown",
   "metadata": {},
   "source": [
    "- We make it into a function to use it later with Test Data:"
   ]
  },
  {
   "cell_type": "code",
   "execution_count": 41,
   "metadata": {
    "collapsed": true
   },
   "outputs": [],
   "source": [
    "def construct_title_col(name_col):\n",
    "    title_col = name_col.str.extract(r'([A-Za-z]*)\\.', expand=False)\n",
    "    rare_titles = ['Jonkheer', 'Don', 'Sir', 'Countess', 'Capt', 'Jonkheer', 'Dona', 'Major', 'Dr', 'Rev', 'Col', 'Lady']\n",
    "    title_col.replace(rare_titles, 'Rare', inplace=True)\n",
    "    title_col.replace(['Ms', 'Mme', 'Mlle', 'Mrs'], 'Miss', inplace=True)\n",
    "    return title_col"
   ]
  },
  {
   "cell_type": "code",
   "execution_count": 42,
   "metadata": {},
   "outputs": [
    {
     "data": {
      "text/html": [
       "<div>\n",
       "<style>\n",
       "    .dataframe thead tr:only-child th {\n",
       "        text-align: right;\n",
       "    }\n",
       "\n",
       "    .dataframe thead th {\n",
       "        text-align: left;\n",
       "    }\n",
       "\n",
       "    .dataframe tbody tr th {\n",
       "        vertical-align: top;\n",
       "    }\n",
       "</style>\n",
       "<table border=\"1\" class=\"dataframe\">\n",
       "  <thead>\n",
       "    <tr style=\"text-align: right;\">\n",
       "      <th></th>\n",
       "      <th>PassengerId</th>\n",
       "      <th>Survived</th>\n",
       "      <th>Pclass</th>\n",
       "      <th>Name</th>\n",
       "      <th>Sex</th>\n",
       "      <th>Age</th>\n",
       "      <th>Ticket</th>\n",
       "      <th>Fare</th>\n",
       "      <th>Embarked</th>\n",
       "      <th>AgeCat</th>\n",
       "      <th>NbrRelatives</th>\n",
       "      <th>IsAlone</th>\n",
       "      <th>Title</th>\n",
       "    </tr>\n",
       "  </thead>\n",
       "  <tbody>\n",
       "    <tr>\n",
       "      <th>482</th>\n",
       "      <td>483</td>\n",
       "      <td>0</td>\n",
       "      <td>3</td>\n",
       "      <td>Rouse, Mr. Richard Henry</td>\n",
       "      <td>1</td>\n",
       "      <td>50.0</td>\n",
       "      <td>A/5 3594</td>\n",
       "      <td>8.05</td>\n",
       "      <td>S</td>\n",
       "      <td>4</td>\n",
       "      <td>0</td>\n",
       "      <td>True</td>\n",
       "      <td>Mr</td>\n",
       "    </tr>\n",
       "    <tr>\n",
       "      <th>213</th>\n",
       "      <td>214</td>\n",
       "      <td>0</td>\n",
       "      <td>2</td>\n",
       "      <td>Givard, Mr. Hans Kristensen</td>\n",
       "      <td>1</td>\n",
       "      <td>30.0</td>\n",
       "      <td>250646</td>\n",
       "      <td>13.00</td>\n",
       "      <td>S</td>\n",
       "      <td>2</td>\n",
       "      <td>0</td>\n",
       "      <td>True</td>\n",
       "      <td>Mr</td>\n",
       "    </tr>\n",
       "    <tr>\n",
       "      <th>665</th>\n",
       "      <td>666</td>\n",
       "      <td>0</td>\n",
       "      <td>2</td>\n",
       "      <td>Hickman, Mr. Lewis</td>\n",
       "      <td>1</td>\n",
       "      <td>32.0</td>\n",
       "      <td>S.O.C. 14879</td>\n",
       "      <td>73.50</td>\n",
       "      <td>S</td>\n",
       "      <td>2</td>\n",
       "      <td>2</td>\n",
       "      <td>False</td>\n",
       "      <td>Mr</td>\n",
       "    </tr>\n",
       "    <tr>\n",
       "      <th>89</th>\n",
       "      <td>90</td>\n",
       "      <td>0</td>\n",
       "      <td>3</td>\n",
       "      <td>Celotti, Mr. Francesco</td>\n",
       "      <td>1</td>\n",
       "      <td>24.0</td>\n",
       "      <td>343275</td>\n",
       "      <td>8.05</td>\n",
       "      <td>S</td>\n",
       "      <td>2</td>\n",
       "      <td>0</td>\n",
       "      <td>True</td>\n",
       "      <td>Mr</td>\n",
       "    </tr>\n",
       "    <tr>\n",
       "      <th>228</th>\n",
       "      <td>229</td>\n",
       "      <td>0</td>\n",
       "      <td>2</td>\n",
       "      <td>Fahlstrom, Mr. Arne Jonas</td>\n",
       "      <td>1</td>\n",
       "      <td>18.0</td>\n",
       "      <td>236171</td>\n",
       "      <td>13.00</td>\n",
       "      <td>S</td>\n",
       "      <td>1</td>\n",
       "      <td>0</td>\n",
       "      <td>True</td>\n",
       "      <td>Mr</td>\n",
       "    </tr>\n",
       "  </tbody>\n",
       "</table>\n",
       "</div>"
      ],
      "text/plain": [
       "     PassengerId  Survived  Pclass                         Name  Sex   Age  \\\n",
       "482          483         0       3     Rouse, Mr. Richard Henry    1  50.0   \n",
       "213          214         0       2  Givard, Mr. Hans Kristensen    1  30.0   \n",
       "665          666         0       2           Hickman, Mr. Lewis    1  32.0   \n",
       "89            90         0       3       Celotti, Mr. Francesco    1  24.0   \n",
       "228          229         0       2    Fahlstrom, Mr. Arne Jonas    1  18.0   \n",
       "\n",
       "           Ticket   Fare Embarked  AgeCat  NbrRelatives  IsAlone Title  \n",
       "482      A/5 3594   8.05        S       4             0     True    Mr  \n",
       "213        250646  13.00        S       2             0     True    Mr  \n",
       "665  S.O.C. 14879  73.50        S       2             2    False    Mr  \n",
       "89         343275   8.05        S       2             0     True    Mr  \n",
       "228        236171  13.00        S       1             0     True    Mr  "
      ]
     },
     "execution_count": 42,
     "metadata": {},
     "output_type": "execute_result"
    }
   ],
   "source": [
    "# Check if working by droping the Column and creating it again using the function\n",
    "train_df.drop('Title', axis=1, inplace=True)\n",
    "train_df['Title'] = construct_title_col(train_df['Name'])\n",
    "train_df.sample(5)"
   ]
  },
  {
   "cell_type": "markdown",
   "metadata": {},
   "source": [
    "#### Replace Age of Master Passengers who had missing values :\n",
    "\n",
    "- We notice below, that all passengers with title **'Master'** have age less than 12 (except for those that we edited earlier  which have the Age == 29~ which is the mean of all ages)\n",
    "\n",
    "( I just show 5 random rows here for better visualization )"
   ]
  },
  {
   "cell_type": "code",
   "execution_count": 43,
   "metadata": {},
   "outputs": [
    {
     "data": {
      "text/html": [
       "<div>\n",
       "<style>\n",
       "    .dataframe thead tr:only-child th {\n",
       "        text-align: right;\n",
       "    }\n",
       "\n",
       "    .dataframe thead th {\n",
       "        text-align: left;\n",
       "    }\n",
       "\n",
       "    .dataframe tbody tr th {\n",
       "        vertical-align: top;\n",
       "    }\n",
       "</style>\n",
       "<table border=\"1\" class=\"dataframe\">\n",
       "  <thead>\n",
       "    <tr style=\"text-align: right;\">\n",
       "      <th></th>\n",
       "      <th>PassengerId</th>\n",
       "      <th>Survived</th>\n",
       "      <th>Pclass</th>\n",
       "      <th>Name</th>\n",
       "      <th>Sex</th>\n",
       "      <th>Age</th>\n",
       "      <th>Ticket</th>\n",
       "      <th>Fare</th>\n",
       "      <th>Embarked</th>\n",
       "      <th>AgeCat</th>\n",
       "      <th>NbrRelatives</th>\n",
       "      <th>IsAlone</th>\n",
       "      <th>Title</th>\n",
       "    </tr>\n",
       "  </thead>\n",
       "  <tbody>\n",
       "    <tr>\n",
       "      <th>803</th>\n",
       "      <td>804</td>\n",
       "      <td>1</td>\n",
       "      <td>3</td>\n",
       "      <td>Thomas, Master. Assad Alexander</td>\n",
       "      <td>1</td>\n",
       "      <td>0.42</td>\n",
       "      <td>2625</td>\n",
       "      <td>8.5167</td>\n",
       "      <td>C</td>\n",
       "      <td>0</td>\n",
       "      <td>1</td>\n",
       "      <td>False</td>\n",
       "      <td>Master</td>\n",
       "    </tr>\n",
       "    <tr>\n",
       "      <th>164</th>\n",
       "      <td>165</td>\n",
       "      <td>0</td>\n",
       "      <td>3</td>\n",
       "      <td>Panula, Master. Eino Viljami</td>\n",
       "      <td>1</td>\n",
       "      <td>1.00</td>\n",
       "      <td>3101295</td>\n",
       "      <td>39.6875</td>\n",
       "      <td>S</td>\n",
       "      <td>0</td>\n",
       "      <td>5</td>\n",
       "      <td>False</td>\n",
       "      <td>Master</td>\n",
       "    </tr>\n",
       "    <tr>\n",
       "      <th>278</th>\n",
       "      <td>279</td>\n",
       "      <td>0</td>\n",
       "      <td>3</td>\n",
       "      <td>Rice, Master. Eric</td>\n",
       "      <td>1</td>\n",
       "      <td>7.00</td>\n",
       "      <td>382652</td>\n",
       "      <td>29.1250</td>\n",
       "      <td>Q</td>\n",
       "      <td>0</td>\n",
       "      <td>5</td>\n",
       "      <td>False</td>\n",
       "      <td>Master</td>\n",
       "    </tr>\n",
       "    <tr>\n",
       "      <th>63</th>\n",
       "      <td>64</td>\n",
       "      <td>0</td>\n",
       "      <td>3</td>\n",
       "      <td>Skoog, Master. Harald</td>\n",
       "      <td>1</td>\n",
       "      <td>4.00</td>\n",
       "      <td>347088</td>\n",
       "      <td>27.9000</td>\n",
       "      <td>S</td>\n",
       "      <td>0</td>\n",
       "      <td>5</td>\n",
       "      <td>False</td>\n",
       "      <td>Master</td>\n",
       "    </tr>\n",
       "    <tr>\n",
       "      <th>16</th>\n",
       "      <td>17</td>\n",
       "      <td>0</td>\n",
       "      <td>3</td>\n",
       "      <td>Rice, Master. Eugene</td>\n",
       "      <td>1</td>\n",
       "      <td>2.00</td>\n",
       "      <td>382652</td>\n",
       "      <td>29.1250</td>\n",
       "      <td>Q</td>\n",
       "      <td>0</td>\n",
       "      <td>5</td>\n",
       "      <td>False</td>\n",
       "      <td>Master</td>\n",
       "    </tr>\n",
       "  </tbody>\n",
       "</table>\n",
       "</div>"
      ],
      "text/plain": [
       "     PassengerId  Survived  Pclass                             Name  Sex  \\\n",
       "803          804         1       3  Thomas, Master. Assad Alexander    1   \n",
       "164          165         0       3     Panula, Master. Eino Viljami    1   \n",
       "278          279         0       3               Rice, Master. Eric    1   \n",
       "63            64         0       3            Skoog, Master. Harald    1   \n",
       "16            17         0       3             Rice, Master. Eugene    1   \n",
       "\n",
       "      Age   Ticket     Fare Embarked  AgeCat  NbrRelatives  IsAlone   Title  \n",
       "803  0.42     2625   8.5167        C       0             1    False  Master  \n",
       "164  1.00  3101295  39.6875        S       0             5    False  Master  \n",
       "278  7.00   382652  29.1250        Q       0             5    False  Master  \n",
       "63   4.00   347088  27.9000        S       0             5    False  Master  \n",
       "16   2.00   382652  29.1250        Q       0             5    False  Master  "
      ]
     },
     "execution_count": 43,
     "metadata": {},
     "output_type": "execute_result"
    }
   ],
   "source": [
    "train_df[train_df['Title']=='Master'].sample(5)"
   ]
  },
  {
   "cell_type": "markdown",
   "metadata": {},
   "source": [
    "- We will then replace the previously missing age values for the 'Master' passengers with the mean of (only) the 'Master' passengers ages, which is a better estimation than the previous value of mean of all passengers ages"
   ]
  },
  {
   "cell_type": "code",
   "execution_count": 44,
   "metadata": {},
   "outputs": [
    {
     "name": "stdout",
     "output_type": "stream",
     "text": [
      "Mean of Master passengers's ages : 4.574166666666667\n",
      "Number of Master passengers who will be affected by the change:  4\n"
     ]
    }
   ],
   "source": [
    "train_df.loc[ (train_df['Title']=='Master') & (train_df['PassengerId'].isin(missing_age_rows['PassengerId'])) , 'Age'] = np.NaN\n",
    "mean_age_masters = train_df.loc[ (train_df['Title']=='Master') ].Age.mean()\n",
    "print('Mean of Master passengers\\'s ages :' , mean_age_masters)\n",
    "print('Number of Master passengers who will be affected by the change: ', train_df[train_df['Title'] == 'Master']['Age'].isnull().sum())"
   ]
  },
  {
   "cell_type": "code",
   "execution_count": 45,
   "metadata": {},
   "outputs": [
    {
     "data": {
      "text/html": [
       "<div>\n",
       "<style>\n",
       "    .dataframe thead tr:only-child th {\n",
       "        text-align: right;\n",
       "    }\n",
       "\n",
       "    .dataframe thead th {\n",
       "        text-align: left;\n",
       "    }\n",
       "\n",
       "    .dataframe tbody tr th {\n",
       "        vertical-align: top;\n",
       "    }\n",
       "</style>\n",
       "<table border=\"1\" class=\"dataframe\">\n",
       "  <thead>\n",
       "    <tr style=\"text-align: right;\">\n",
       "      <th></th>\n",
       "      <th>PassengerId</th>\n",
       "      <th>Survived</th>\n",
       "      <th>Pclass</th>\n",
       "      <th>Name</th>\n",
       "      <th>Sex</th>\n",
       "      <th>Age</th>\n",
       "      <th>Ticket</th>\n",
       "      <th>Fare</th>\n",
       "      <th>Embarked</th>\n",
       "      <th>AgeCat</th>\n",
       "      <th>NbrRelatives</th>\n",
       "      <th>IsAlone</th>\n",
       "      <th>Title</th>\n",
       "    </tr>\n",
       "  </thead>\n",
       "  <tbody>\n",
       "    <tr>\n",
       "      <th>65</th>\n",
       "      <td>66</td>\n",
       "      <td>1</td>\n",
       "      <td>3</td>\n",
       "      <td>Moubarek, Master. Gerios</td>\n",
       "      <td>1</td>\n",
       "      <td>4.574167</td>\n",
       "      <td>2661</td>\n",
       "      <td>15.2458</td>\n",
       "      <td>C</td>\n",
       "      <td>2</td>\n",
       "      <td>2</td>\n",
       "      <td>False</td>\n",
       "      <td>Master</td>\n",
       "    </tr>\n",
       "    <tr>\n",
       "      <th>159</th>\n",
       "      <td>160</td>\n",
       "      <td>0</td>\n",
       "      <td>3</td>\n",
       "      <td>Sage, Master. Thomas Henry</td>\n",
       "      <td>1</td>\n",
       "      <td>4.574167</td>\n",
       "      <td>CA. 2343</td>\n",
       "      <td>69.5500</td>\n",
       "      <td>S</td>\n",
       "      <td>2</td>\n",
       "      <td>10</td>\n",
       "      <td>False</td>\n",
       "      <td>Master</td>\n",
       "    </tr>\n",
       "    <tr>\n",
       "      <th>176</th>\n",
       "      <td>177</td>\n",
       "      <td>0</td>\n",
       "      <td>3</td>\n",
       "      <td>Lefebre, Master. Henry Forbes</td>\n",
       "      <td>1</td>\n",
       "      <td>4.574167</td>\n",
       "      <td>4133</td>\n",
       "      <td>25.4667</td>\n",
       "      <td>S</td>\n",
       "      <td>2</td>\n",
       "      <td>4</td>\n",
       "      <td>False</td>\n",
       "      <td>Master</td>\n",
       "    </tr>\n",
       "    <tr>\n",
       "      <th>709</th>\n",
       "      <td>710</td>\n",
       "      <td>1</td>\n",
       "      <td>3</td>\n",
       "      <td>Moubarek, Master. Halim Gonios (\"William George\")</td>\n",
       "      <td>1</td>\n",
       "      <td>4.574167</td>\n",
       "      <td>2661</td>\n",
       "      <td>15.2458</td>\n",
       "      <td>C</td>\n",
       "      <td>2</td>\n",
       "      <td>2</td>\n",
       "      <td>False</td>\n",
       "      <td>Master</td>\n",
       "    </tr>\n",
       "  </tbody>\n",
       "</table>\n",
       "</div>"
      ],
      "text/plain": [
       "     PassengerId  Survived  Pclass  \\\n",
       "65            66         1       3   \n",
       "159          160         0       3   \n",
       "176          177         0       3   \n",
       "709          710         1       3   \n",
       "\n",
       "                                                  Name  Sex       Age  \\\n",
       "65                            Moubarek, Master. Gerios    1  4.574167   \n",
       "159                         Sage, Master. Thomas Henry    1  4.574167   \n",
       "176                      Lefebre, Master. Henry Forbes    1  4.574167   \n",
       "709  Moubarek, Master. Halim Gonios (\"William George\")    1  4.574167   \n",
       "\n",
       "       Ticket     Fare Embarked  AgeCat  NbrRelatives  IsAlone   Title  \n",
       "65       2661  15.2458        C       2             2    False  Master  \n",
       "159  CA. 2343  69.5500        S       2            10    False  Master  \n",
       "176      4133  25.4667        S       2             4    False  Master  \n",
       "709      2661  15.2458        C       2             2    False  Master  "
      ]
     },
     "execution_count": 45,
     "metadata": {},
     "output_type": "execute_result"
    }
   ],
   "source": [
    "train_df.loc[ (train_df['Title']=='Master') & (train_df['PassengerId'].isin(missing_age_rows['PassengerId'])) , 'Age'] = mean_age_masters\n",
    "train_df.loc[ (train_df['Title']=='Master') & (train_df['PassengerId'].isin(missing_age_rows['PassengerId']))]"
   ]
  },
  {
   "cell_type": "code",
   "execution_count": 46,
   "metadata": {},
   "outputs": [
    {
     "data": {
      "text/plain": [
       "12.0"
      ]
     },
     "execution_count": 46,
     "metadata": {},
     "output_type": "execute_result"
    }
   ],
   "source": [
    "# Check\n",
    "train_df[train_df['Title'] == 'Master']['Age'].max()"
   ]
  },
  {
   "cell_type": "markdown",
   "metadata": {},
   "source": [
    "#### Visualization of Survival Counts by Title:"
   ]
  },
  {
   "cell_type": "code",
   "execution_count": 47,
   "metadata": {},
   "outputs": [
    {
     "name": "stdout",
     "output_type": "stream",
     "text": [
      "['Master', 'Miss', 'Mr', 'Rare']\n"
     ]
    }
   ],
   "source": [
    "ct = pd.crosstab(train_df.Title, train_df.Survived)\n",
    "cats = list(ct.index.values)\n",
    "print(cats)\n",
    "#ct"
   ]
  },
  {
   "cell_type": "code",
   "execution_count": 48,
   "metadata": {},
   "outputs": [
    {
     "data": {
      "image/png": "[encoded data removed]",
      "text/plain": [
       "<matplotlib.figure.Figure at 0x11a3e5eb8>"
      ]
     },
     "metadata": {},
     "output_type": "display_data"
    }
   ],
   "source": [
    "\n",
    "survivants_vals = ct.loc[cats, 1]\n",
    "deads_vals = ct.loc[cats, 0]\n",
    "\n",
    "ind = np.arange(len(cats))\n",
    "width = 0.25\n",
    "plt.bar(ind, survivants_vals, width, label='Survived', color=COLOR_SURVIVED)\n",
    "plt.bar(ind+width, deads_vals, width, label='Dead', color=COLOR_DEAD)\n",
    "\n",
    "plt.xticks(ind+width/2, cats)\n",
    "plt.legend(loc='upper right')\n",
    "plt.show()"
   ]
  },
  {
   "cell_type": "markdown",
   "metadata": {},
   "source": [
    "- Drop the **'Name'** Column"
   ]
  },
  {
   "cell_type": "code",
   "execution_count": 49,
   "metadata": {
    "collapsed": true
   },
   "outputs": [],
   "source": [
    "train_df.drop('Name', axis=1, inplace=True)"
   ]
  },
  {
   "cell_type": "markdown",
   "metadata": {
    "_uuid": "5ea9b62b045d491d556c6dff1c5b709270bc9345"
   },
   "source": [
    "## Preprocess the Test Data:\n",
    "\n",
    "- Now that we got a good overview of the Training Data, we proceed to the final preprocessings on both Training and Test Data"
   ]
  },
  {
   "cell_type": "code",
   "execution_count": 50,
   "metadata": {},
   "outputs": [
    {
     "data": {
      "text/html": [
       "<div>\n",
       "<style>\n",
       "    .dataframe thead tr:only-child th {\n",
       "        text-align: right;\n",
       "    }\n",
       "\n",
       "    .dataframe thead th {\n",
       "        text-align: left;\n",
       "    }\n",
       "\n",
       "    .dataframe tbody tr th {\n",
       "        vertical-align: top;\n",
       "    }\n",
       "</style>\n",
       "<table border=\"1\" class=\"dataframe\">\n",
       "  <thead>\n",
       "    <tr style=\"text-align: right;\">\n",
       "      <th></th>\n",
       "      <th>PassengerId</th>\n",
       "      <th>Pclass</th>\n",
       "      <th>Name</th>\n",
       "      <th>Sex</th>\n",
       "      <th>Age</th>\n",
       "      <th>SibSp</th>\n",
       "      <th>Parch</th>\n",
       "      <th>Ticket</th>\n",
       "      <th>Fare</th>\n",
       "      <th>Cabin</th>\n",
       "      <th>Embarked</th>\n",
       "    </tr>\n",
       "  </thead>\n",
       "  <tbody>\n",
       "    <tr>\n",
       "      <th>194</th>\n",
       "      <td>1086</td>\n",
       "      <td>2</td>\n",
       "      <td>Drew, Master. Marshall Brines</td>\n",
       "      <td>male</td>\n",
       "      <td>8.0</td>\n",
       "      <td>0</td>\n",
       "      <td>2</td>\n",
       "      <td>28220</td>\n",
       "      <td>32.5000</td>\n",
       "      <td>NaN</td>\n",
       "      <td>S</td>\n",
       "    </tr>\n",
       "    <tr>\n",
       "      <th>243</th>\n",
       "      <td>1135</td>\n",
       "      <td>3</td>\n",
       "      <td>Hyman, Mr. Abraham</td>\n",
       "      <td>male</td>\n",
       "      <td>NaN</td>\n",
       "      <td>0</td>\n",
       "      <td>0</td>\n",
       "      <td>3470</td>\n",
       "      <td>7.8875</td>\n",
       "      <td>NaN</td>\n",
       "      <td>S</td>\n",
       "    </tr>\n",
       "    <tr>\n",
       "      <th>393</th>\n",
       "      <td>1285</td>\n",
       "      <td>2</td>\n",
       "      <td>Gilbert, Mr. William</td>\n",
       "      <td>male</td>\n",
       "      <td>47.0</td>\n",
       "      <td>0</td>\n",
       "      <td>0</td>\n",
       "      <td>C.A. 30769</td>\n",
       "      <td>10.5000</td>\n",
       "      <td>NaN</td>\n",
       "      <td>S</td>\n",
       "    </tr>\n",
       "    <tr>\n",
       "      <th>145</th>\n",
       "      <td>1037</td>\n",
       "      <td>3</td>\n",
       "      <td>Vander Planke, Mr. Julius</td>\n",
       "      <td>male</td>\n",
       "      <td>31.0</td>\n",
       "      <td>3</td>\n",
       "      <td>0</td>\n",
       "      <td>345763</td>\n",
       "      <td>18.0000</td>\n",
       "      <td>NaN</td>\n",
       "      <td>S</td>\n",
       "    </tr>\n",
       "    <tr>\n",
       "      <th>81</th>\n",
       "      <td>973</td>\n",
       "      <td>1</td>\n",
       "      <td>Straus, Mr. Isidor</td>\n",
       "      <td>male</td>\n",
       "      <td>67.0</td>\n",
       "      <td>1</td>\n",
       "      <td>0</td>\n",
       "      <td>PC 17483</td>\n",
       "      <td>221.7792</td>\n",
       "      <td>C55 C57</td>\n",
       "      <td>S</td>\n",
       "    </tr>\n",
       "  </tbody>\n",
       "</table>\n",
       "</div>"
      ],
      "text/plain": [
       "     PassengerId  Pclass                           Name   Sex   Age  SibSp  \\\n",
       "194         1086       2  Drew, Master. Marshall Brines  male   8.0      0   \n",
       "243         1135       3             Hyman, Mr. Abraham  male   NaN      0   \n",
       "393         1285       2           Gilbert, Mr. William  male  47.0      0   \n",
       "145         1037       3      Vander Planke, Mr. Julius  male  31.0      3   \n",
       "81           973       1             Straus, Mr. Isidor  male  67.0      1   \n",
       "\n",
       "     Parch      Ticket      Fare    Cabin Embarked  \n",
       "194      2       28220   32.5000      NaN        S  \n",
       "243      0        3470    7.8875      NaN        S  \n",
       "393      0  C.A. 30769   10.5000      NaN        S  \n",
       "145      0      345763   18.0000      NaN        S  \n",
       "81       0    PC 17483  221.7792  C55 C57        S  "
      ]
     },
     "execution_count": 50,
     "metadata": {},
     "output_type": "execute_result"
    }
   ],
   "source": [
    "test_df = pd.read_csv(f'{INPUT_DIR}/test.csv')\n",
    "test_df.sample(5)"
   ]
  },
  {
   "cell_type": "code",
   "execution_count": 51,
   "metadata": {},
   "outputs": [
    {
     "name": "stdout",
     "output_type": "stream",
     "text": [
      "Checking for Missing values in Test Dataset (out of 418): \n"
     ]
    },
    {
     "data": {
      "text/plain": [
       "PassengerId      0\n",
       "Pclass           0\n",
       "Name             0\n",
       "Sex              0\n",
       "Age             86\n",
       "SibSp            0\n",
       "Parch            0\n",
       "Ticket           0\n",
       "Fare             1\n",
       "Cabin          327\n",
       "Embarked         0\n",
       "dtype: int64"
      ]
     },
     "execution_count": 51,
     "metadata": {},
     "output_type": "execute_result"
    }
   ],
   "source": [
    "print(f'Checking for Missing values in Test Dataset (out of {len(test_df)}): ')\n",
    "test_df.isnull().sum()"
   ]
  },
  {
   "cell_type": "markdown",
   "metadata": {},
   "source": [
    "- The missing values in Cabin are not a problem, we will drop the column anyway\n",
    "- Regarding missing values in'Age' Column, we will impute them as we imputed them in Train Dataset:\n",
    "    - Replace all NaN values of passengers with Title Master with Mean of Ages of passengers that have 'Master' Title\n",
    "    - The Others replace them with the mean of all passengers"
   ]
  },
  {
   "cell_type": "markdown",
   "metadata": {},
   "source": [
    "### Construct Title, NbrRelatives, IsAlone Columns for Test Dataset:"
   ]
  },
  {
   "cell_type": "code",
   "execution_count": 52,
   "metadata": {},
   "outputs": [
    {
     "data": {
      "text/html": [
       "<div>\n",
       "<style>\n",
       "    .dataframe thead tr:only-child th {\n",
       "        text-align: right;\n",
       "    }\n",
       "\n",
       "    .dataframe thead th {\n",
       "        text-align: left;\n",
       "    }\n",
       "\n",
       "    .dataframe tbody tr th {\n",
       "        vertical-align: top;\n",
       "    }\n",
       "</style>\n",
       "<table border=\"1\" class=\"dataframe\">\n",
       "  <thead>\n",
       "    <tr style=\"text-align: right;\">\n",
       "      <th></th>\n",
       "      <th>PassengerId</th>\n",
       "      <th>Pclass</th>\n",
       "      <th>Name</th>\n",
       "      <th>Sex</th>\n",
       "      <th>Age</th>\n",
       "      <th>SibSp</th>\n",
       "      <th>Parch</th>\n",
       "      <th>Ticket</th>\n",
       "      <th>Fare</th>\n",
       "      <th>Cabin</th>\n",
       "      <th>Embarked</th>\n",
       "      <th>Title</th>\n",
       "    </tr>\n",
       "  </thead>\n",
       "  <tbody>\n",
       "    <tr>\n",
       "      <th>158</th>\n",
       "      <td>1050</td>\n",
       "      <td>1</td>\n",
       "      <td>Borebank, Mr. John James</td>\n",
       "      <td>male</td>\n",
       "      <td>42.0</td>\n",
       "      <td>0</td>\n",
       "      <td>0</td>\n",
       "      <td>110489</td>\n",
       "      <td>26.55</td>\n",
       "      <td>D22</td>\n",
       "      <td>S</td>\n",
       "      <td>Mr</td>\n",
       "    </tr>\n",
       "    <tr>\n",
       "      <th>359</th>\n",
       "      <td>1251</td>\n",
       "      <td>3</td>\n",
       "      <td>Lindell, Mrs. Edvard Bengtsson (Elin Gerda Per...</td>\n",
       "      <td>female</td>\n",
       "      <td>30.0</td>\n",
       "      <td>1</td>\n",
       "      <td>0</td>\n",
       "      <td>349910</td>\n",
       "      <td>15.55</td>\n",
       "      <td>NaN</td>\n",
       "      <td>S</td>\n",
       "      <td>Miss</td>\n",
       "    </tr>\n",
       "    <tr>\n",
       "      <th>291</th>\n",
       "      <td>1183</td>\n",
       "      <td>3</td>\n",
       "      <td>Daly, Miss. Margaret Marcella Maggie\"\"</td>\n",
       "      <td>female</td>\n",
       "      <td>30.0</td>\n",
       "      <td>0</td>\n",
       "      <td>0</td>\n",
       "      <td>382650</td>\n",
       "      <td>6.95</td>\n",
       "      <td>NaN</td>\n",
       "      <td>Q</td>\n",
       "      <td>Miss</td>\n",
       "    </tr>\n",
       "  </tbody>\n",
       "</table>\n",
       "</div>"
      ],
      "text/plain": [
       "     PassengerId  Pclass                                               Name  \\\n",
       "158         1050       1                           Borebank, Mr. John James   \n",
       "359         1251       3  Lindell, Mrs. Edvard Bengtsson (Elin Gerda Per...   \n",
       "291         1183       3             Daly, Miss. Margaret Marcella Maggie\"\"   \n",
       "\n",
       "        Sex   Age  SibSp  Parch  Ticket   Fare Cabin Embarked Title  \n",
       "158    male  42.0      0      0  110489  26.55   D22        S    Mr  \n",
       "359  female  30.0      1      0  349910  15.55   NaN        S  Miss  \n",
       "291  female  30.0      0      0  382650   6.95   NaN        Q  Miss  "
      ]
     },
     "execution_count": 52,
     "metadata": {},
     "output_type": "execute_result"
    }
   ],
   "source": [
    "test_df['Title'] = construct_title_col(test_df['Name'])\n",
    "test_df.sample(3)"
   ]
  },
  {
   "cell_type": "code",
   "execution_count": 53,
   "metadata": {},
   "outputs": [
    {
     "data": {
      "text/html": [
       "<div>\n",
       "<style>\n",
       "    .dataframe thead tr:only-child th {\n",
       "        text-align: right;\n",
       "    }\n",
       "\n",
       "    .dataframe thead th {\n",
       "        text-align: left;\n",
       "    }\n",
       "\n",
       "    .dataframe tbody tr th {\n",
       "        vertical-align: top;\n",
       "    }\n",
       "</style>\n",
       "<table border=\"1\" class=\"dataframe\">\n",
       "  <thead>\n",
       "    <tr style=\"text-align: right;\">\n",
       "      <th></th>\n",
       "      <th>PassengerId</th>\n",
       "      <th>Pclass</th>\n",
       "      <th>Name</th>\n",
       "      <th>Sex</th>\n",
       "      <th>Age</th>\n",
       "      <th>SibSp</th>\n",
       "      <th>Parch</th>\n",
       "      <th>Ticket</th>\n",
       "      <th>Fare</th>\n",
       "      <th>Cabin</th>\n",
       "      <th>Embarked</th>\n",
       "      <th>Title</th>\n",
       "      <th>NbrRelatives</th>\n",
       "    </tr>\n",
       "  </thead>\n",
       "  <tbody>\n",
       "    <tr>\n",
       "      <th>92</th>\n",
       "      <td>984</td>\n",
       "      <td>1</td>\n",
       "      <td>Davidson, Mrs. Thornton (Orian Hays)</td>\n",
       "      <td>female</td>\n",
       "      <td>27.0</td>\n",
       "      <td>1</td>\n",
       "      <td>2</td>\n",
       "      <td>F.C. 12750</td>\n",
       "      <td>52.0000</td>\n",
       "      <td>B71</td>\n",
       "      <td>S</td>\n",
       "      <td>Miss</td>\n",
       "      <td>3</td>\n",
       "    </tr>\n",
       "    <tr>\n",
       "      <th>252</th>\n",
       "      <td>1144</td>\n",
       "      <td>1</td>\n",
       "      <td>Clark, Mr. Walter Miller</td>\n",
       "      <td>male</td>\n",
       "      <td>27.0</td>\n",
       "      <td>1</td>\n",
       "      <td>0</td>\n",
       "      <td>13508</td>\n",
       "      <td>136.7792</td>\n",
       "      <td>C89</td>\n",
       "      <td>C</td>\n",
       "      <td>Mr</td>\n",
       "      <td>1</td>\n",
       "    </tr>\n",
       "    <tr>\n",
       "      <th>309</th>\n",
       "      <td>1201</td>\n",
       "      <td>3</td>\n",
       "      <td>Hansen, Mrs. Claus Peter (Jennie L Howard)</td>\n",
       "      <td>female</td>\n",
       "      <td>45.0</td>\n",
       "      <td>1</td>\n",
       "      <td>0</td>\n",
       "      <td>350026</td>\n",
       "      <td>14.1083</td>\n",
       "      <td>NaN</td>\n",
       "      <td>S</td>\n",
       "      <td>Miss</td>\n",
       "      <td>1</td>\n",
       "    </tr>\n",
       "  </tbody>\n",
       "</table>\n",
       "</div>"
      ],
      "text/plain": [
       "     PassengerId  Pclass                                        Name     Sex  \\\n",
       "92           984       1        Davidson, Mrs. Thornton (Orian Hays)  female   \n",
       "252         1144       1                    Clark, Mr. Walter Miller    male   \n",
       "309         1201       3  Hansen, Mrs. Claus Peter (Jennie L Howard)  female   \n",
       "\n",
       "      Age  SibSp  Parch      Ticket      Fare Cabin Embarked Title  \\\n",
       "92   27.0      1      2  F.C. 12750   52.0000   B71        S  Miss   \n",
       "252  27.0      1      0       13508  136.7792   C89        C    Mr   \n",
       "309  45.0      1      0      350026   14.1083   NaN        S  Miss   \n",
       "\n",
       "     NbrRelatives  \n",
       "92              3  \n",
       "252             1  \n",
       "309             1  "
      ]
     },
     "execution_count": 53,
     "metadata": {},
     "output_type": "execute_result"
    }
   ],
   "source": [
    "test_df['NbrRelatives'] = construct_nbr_relatives_col(test_df['SibSp'], test_df['Parch'])\n",
    "test_df.sample(3)"
   ]
  },
  {
   "cell_type": "code",
   "execution_count": 54,
   "metadata": {},
   "outputs": [
    {
     "data": {
      "text/html": [
       "<div>\n",
       "<style>\n",
       "    .dataframe thead tr:only-child th {\n",
       "        text-align: right;\n",
       "    }\n",
       "\n",
       "    .dataframe thead th {\n",
       "        text-align: left;\n",
       "    }\n",
       "\n",
       "    .dataframe tbody tr th {\n",
       "        vertical-align: top;\n",
       "    }\n",
       "</style>\n",
       "<table border=\"1\" class=\"dataframe\">\n",
       "  <thead>\n",
       "    <tr style=\"text-align: right;\">\n",
       "      <th></th>\n",
       "      <th>PassengerId</th>\n",
       "      <th>Pclass</th>\n",
       "      <th>Name</th>\n",
       "      <th>Sex</th>\n",
       "      <th>Age</th>\n",
       "      <th>SibSp</th>\n",
       "      <th>Parch</th>\n",
       "      <th>Ticket</th>\n",
       "      <th>Fare</th>\n",
       "      <th>Cabin</th>\n",
       "      <th>Embarked</th>\n",
       "      <th>Title</th>\n",
       "      <th>NbrRelatives</th>\n",
       "      <th>IsAlone</th>\n",
       "    </tr>\n",
       "  </thead>\n",
       "  <tbody>\n",
       "    <tr>\n",
       "      <th>147</th>\n",
       "      <td>1039</td>\n",
       "      <td>3</td>\n",
       "      <td>Davies, Mr. Evan</td>\n",
       "      <td>male</td>\n",
       "      <td>22.0</td>\n",
       "      <td>0</td>\n",
       "      <td>0</td>\n",
       "      <td>SC/A4 23568</td>\n",
       "      <td>8.05</td>\n",
       "      <td>NaN</td>\n",
       "      <td>S</td>\n",
       "      <td>Mr</td>\n",
       "      <td>0</td>\n",
       "      <td>True</td>\n",
       "    </tr>\n",
       "    <tr>\n",
       "      <th>304</th>\n",
       "      <td>1196</td>\n",
       "      <td>3</td>\n",
       "      <td>McCarthy, Miss. Catherine Katie\"\"</td>\n",
       "      <td>female</td>\n",
       "      <td>NaN</td>\n",
       "      <td>0</td>\n",
       "      <td>0</td>\n",
       "      <td>383123</td>\n",
       "      <td>7.75</td>\n",
       "      <td>NaN</td>\n",
       "      <td>Q</td>\n",
       "      <td>Miss</td>\n",
       "      <td>0</td>\n",
       "      <td>True</td>\n",
       "    </tr>\n",
       "    <tr>\n",
       "      <th>187</th>\n",
       "      <td>1079</td>\n",
       "      <td>3</td>\n",
       "      <td>Davies, Mr. Joseph</td>\n",
       "      <td>male</td>\n",
       "      <td>17.0</td>\n",
       "      <td>2</td>\n",
       "      <td>0</td>\n",
       "      <td>A/4 48873</td>\n",
       "      <td>8.05</td>\n",
       "      <td>NaN</td>\n",
       "      <td>S</td>\n",
       "      <td>Mr</td>\n",
       "      <td>2</td>\n",
       "      <td>False</td>\n",
       "    </tr>\n",
       "  </tbody>\n",
       "</table>\n",
       "</div>"
      ],
      "text/plain": [
       "     PassengerId  Pclass                               Name     Sex   Age  \\\n",
       "147         1039       3                   Davies, Mr. Evan    male  22.0   \n",
       "304         1196       3  McCarthy, Miss. Catherine Katie\"\"  female   NaN   \n",
       "187         1079       3                 Davies, Mr. Joseph    male  17.0   \n",
       "\n",
       "     SibSp  Parch       Ticket  Fare Cabin Embarked Title  NbrRelatives  \\\n",
       "147      0      0  SC/A4 23568  8.05   NaN        S    Mr             0   \n",
       "304      0      0       383123  7.75   NaN        Q  Miss             0   \n",
       "187      2      0    A/4 48873  8.05   NaN        S    Mr             2   \n",
       "\n",
       "     IsAlone  \n",
       "147     True  \n",
       "304     True  \n",
       "187    False  "
      ]
     },
     "execution_count": 54,
     "metadata": {},
     "output_type": "execute_result"
    }
   ],
   "source": [
    "test_df['IsAlone'] = construct_is_alone_col(test_df['NbrRelatives'])\n",
    "test_df.sample(3)"
   ]
  },
  {
   "cell_type": "markdown",
   "metadata": {},
   "source": [
    "### Handle Missing Values in 'Age' Column of Test Dataset:"
   ]
  },
  {
   "cell_type": "code",
   "execution_count": 55,
   "metadata": {},
   "outputs": [
    {
     "name": "stdout",
     "output_type": "stream",
     "text": [
      "Nbr of Missing Age Values for passengers with Master Title 4\n"
     ]
    }
   ],
   "source": [
    "print('Nbr of Missing Age Values for passengers with Master Title', test_df[test_df['Title'] == 'Master'].Age.isnull().sum())"
   ]
  },
  {
   "cell_type": "code",
   "execution_count": 56,
   "metadata": {},
   "outputs": [
    {
     "name": "stdout",
     "output_type": "stream",
     "text": [
      "7.406470588235294\n"
     ]
    }
   ],
   "source": [
    "mean_ages_masters = test_df[test_df['Title'] == 'Master'].Age.mean()\n",
    "print(mean_ages_masters)\n",
    "test_df.loc[ (test_df['Title'] == 'Master') & (test_df['Age'].isnull()), 'Age'] = mean_ages_masters\n",
    "\n",
    "assert not test_df[test_df['Title'] == 'Master'].Age.isnull().any()"
   ]
  },
  {
   "cell_type": "code",
   "execution_count": 57,
   "metadata": {},
   "outputs": [
    {
     "name": "stdout",
     "output_type": "stream",
     "text": [
      "Nbr of Missing Age Values for passengers except Master Title 82\n"
     ]
    }
   ],
   "source": [
    "print('Nbr of Missing Age Values for passengers except Master Title', test_df[test_df['Title'] != 'Master'].Age.isnull().sum())"
   ]
  },
  {
   "cell_type": "code",
   "execution_count": 58,
   "metadata": {},
   "outputs": [
    {
     "name": "stdout",
     "output_type": "stream",
     "text": [
      "30.000374649859946\n"
     ]
    }
   ],
   "source": [
    "mean_ages_all = test_df.Age.mean()\n",
    "print(mean_ages_all)\n",
    "test_df['Age'] = test_df.Age.fillna( mean_ages_all )\n",
    "\n",
    "assert not test_df.Age.isnull().any()"
   ]
  },
  {
   "cell_type": "markdown",
   "metadata": {},
   "source": [
    "### Construct AgeCat Column of Test Dataset:"
   ]
  },
  {
   "cell_type": "code",
   "execution_count": 59,
   "metadata": {},
   "outputs": [
    {
     "data": {
      "text/html": [
       "<div>\n",
       "<style>\n",
       "    .dataframe thead tr:only-child th {\n",
       "        text-align: right;\n",
       "    }\n",
       "\n",
       "    .dataframe thead th {\n",
       "        text-align: left;\n",
       "    }\n",
       "\n",
       "    .dataframe tbody tr th {\n",
       "        vertical-align: top;\n",
       "    }\n",
       "</style>\n",
       "<table border=\"1\" class=\"dataframe\">\n",
       "  <thead>\n",
       "    <tr style=\"text-align: right;\">\n",
       "      <th></th>\n",
       "      <th>PassengerId</th>\n",
       "      <th>Pclass</th>\n",
       "      <th>Name</th>\n",
       "      <th>Sex</th>\n",
       "      <th>Age</th>\n",
       "      <th>SibSp</th>\n",
       "      <th>Parch</th>\n",
       "      <th>Ticket</th>\n",
       "      <th>Fare</th>\n",
       "      <th>Cabin</th>\n",
       "      <th>Embarked</th>\n",
       "      <th>Title</th>\n",
       "      <th>NbrRelatives</th>\n",
       "      <th>IsAlone</th>\n",
       "      <th>AgeCat</th>\n",
       "    </tr>\n",
       "  </thead>\n",
       "  <tbody>\n",
       "    <tr>\n",
       "      <th>254</th>\n",
       "      <td>1146</td>\n",
       "      <td>3</td>\n",
       "      <td>Wenzel, Mr. Linhart</td>\n",
       "      <td>male</td>\n",
       "      <td>32.5</td>\n",
       "      <td>0</td>\n",
       "      <td>0</td>\n",
       "      <td>345775</td>\n",
       "      <td>9.5000</td>\n",
       "      <td>NaN</td>\n",
       "      <td>S</td>\n",
       "      <td>Mr</td>\n",
       "      <td>0</td>\n",
       "      <td>True</td>\n",
       "      <td>2</td>\n",
       "    </tr>\n",
       "    <tr>\n",
       "      <th>407</th>\n",
       "      <td>1299</td>\n",
       "      <td>1</td>\n",
       "      <td>Widener, Mr. George Dunton</td>\n",
       "      <td>male</td>\n",
       "      <td>50.0</td>\n",
       "      <td>1</td>\n",
       "      <td>1</td>\n",
       "      <td>113503</td>\n",
       "      <td>211.5000</td>\n",
       "      <td>C80</td>\n",
       "      <td>C</td>\n",
       "      <td>Mr</td>\n",
       "      <td>2</td>\n",
       "      <td>False</td>\n",
       "      <td>4</td>\n",
       "    </tr>\n",
       "    <tr>\n",
       "      <th>40</th>\n",
       "      <td>932</td>\n",
       "      <td>3</td>\n",
       "      <td>Karun, Mr. Franz</td>\n",
       "      <td>male</td>\n",
       "      <td>39.0</td>\n",
       "      <td>0</td>\n",
       "      <td>1</td>\n",
       "      <td>349256</td>\n",
       "      <td>13.4167</td>\n",
       "      <td>NaN</td>\n",
       "      <td>C</td>\n",
       "      <td>Mr</td>\n",
       "      <td>1</td>\n",
       "      <td>False</td>\n",
       "      <td>3</td>\n",
       "    </tr>\n",
       "  </tbody>\n",
       "</table>\n",
       "</div>"
      ],
      "text/plain": [
       "     PassengerId  Pclass                        Name   Sex   Age  SibSp  \\\n",
       "254         1146       3         Wenzel, Mr. Linhart  male  32.5      0   \n",
       "407         1299       1  Widener, Mr. George Dunton  male  50.0      1   \n",
       "40           932       3            Karun, Mr. Franz  male  39.0      0   \n",
       "\n",
       "     Parch  Ticket      Fare Cabin Embarked Title  NbrRelatives  IsAlone  \\\n",
       "254      0  345775    9.5000   NaN        S    Mr             0     True   \n",
       "407      1  113503  211.5000   C80        C    Mr             2    False   \n",
       "40       1  349256   13.4167   NaN        C    Mr             1    False   \n",
       "\n",
       "     AgeCat  \n",
       "254       2  \n",
       "407       4  \n",
       "40        3  "
      ]
     },
     "execution_count": 59,
     "metadata": {},
     "output_type": "execute_result"
    }
   ],
   "source": [
    "test_df['AgeCat'] = construct_age_cat_col(test_df['Age'])\n",
    "test_df.sample(3)"
   ]
  },
  {
   "cell_type": "markdown",
   "metadata": {
    "_uuid": "6c2be2156a1d9d275dd8f21b16a60539bd9195c7"
   },
   "source": [
    "### Encoding of the \"Embarked\" Feature:"
   ]
  },
  {
   "cell_type": "code",
   "execution_count": 60,
   "metadata": {
    "_uuid": "6071920335101a8debcfd2ce0d423c210e364fa6"
   },
   "outputs": [],
   "source": [
    "def encode_embarked(embarked_col):\n",
    "    return embarked_col.map({'S': 2, 'Q': 1, 'C': 0}).astype('int')\n",
    "    #return pd.get_dummies(data=df, columns=['Embarked'])"
   ]
  },
  {
   "cell_type": "code",
   "execution_count": 61,
   "metadata": {
    "collapsed": true
   },
   "outputs": [],
   "source": [
    "def encode_title(title_col):\n",
    "    return title_col.map({ 'Mr': 0, 'Miss': 1, 'Master': 2, 'Rare': 3 }).astype('int')"
   ]
  },
  {
   "cell_type": "code",
   "execution_count": 62,
   "metadata": {
    "_uuid": "18bd938b013d21ec670d8228d7a80383f6c5992b"
   },
   "outputs": [
    {
     "data": {
      "text/plain": [
       "dtype('int64')"
      ]
     },
     "execution_count": 62,
     "metadata": {},
     "output_type": "execute_result"
    }
   ],
   "source": [
    "train_df['Embarked'] = encode_embarked(train_df['Embarked'])\n",
    "test_df ['Embarked'] = encode_embarked(test_df['Embarked'])\n",
    "train_df.Embarked.dtype"
   ]
  },
  {
   "cell_type": "code",
   "execution_count": 63,
   "metadata": {},
   "outputs": [
    {
     "data": {
      "text/plain": [
       "dtype('int64')"
      ]
     },
     "execution_count": 63,
     "metadata": {},
     "output_type": "execute_result"
    }
   ],
   "source": [
    "train_df['Title'] = encode_title(train_df['Title'])\n",
    "test_df ['Title'] = encode_title(test_df['Title'])\n",
    "train_df.Title.dtype"
   ]
  },
  {
   "cell_type": "code",
   "execution_count": 64,
   "metadata": {},
   "outputs": [
    {
     "data": {
      "text/html": [
       "<div>\n",
       "<style>\n",
       "    .dataframe thead tr:only-child th {\n",
       "        text-align: right;\n",
       "    }\n",
       "\n",
       "    .dataframe thead th {\n",
       "        text-align: left;\n",
       "    }\n",
       "\n",
       "    .dataframe tbody tr th {\n",
       "        vertical-align: top;\n",
       "    }\n",
       "</style>\n",
       "<table border=\"1\" class=\"dataframe\">\n",
       "  <thead>\n",
       "    <tr style=\"text-align: right;\">\n",
       "      <th></th>\n",
       "      <th>PassengerId</th>\n",
       "      <th>Survived</th>\n",
       "      <th>Pclass</th>\n",
       "      <th>Sex</th>\n",
       "      <th>Age</th>\n",
       "      <th>Ticket</th>\n",
       "      <th>Fare</th>\n",
       "      <th>Embarked</th>\n",
       "      <th>AgeCat</th>\n",
       "      <th>NbrRelatives</th>\n",
       "      <th>IsAlone</th>\n",
       "      <th>Title</th>\n",
       "    </tr>\n",
       "  </thead>\n",
       "  <tbody>\n",
       "    <tr>\n",
       "      <th>274</th>\n",
       "      <td>275</td>\n",
       "      <td>1</td>\n",
       "      <td>3</td>\n",
       "      <td>0</td>\n",
       "      <td>29.699118</td>\n",
       "      <td>370375</td>\n",
       "      <td>7.7500</td>\n",
       "      <td>1</td>\n",
       "      <td>2</td>\n",
       "      <td>0</td>\n",
       "      <td>True</td>\n",
       "      <td>1</td>\n",
       "    </tr>\n",
       "    <tr>\n",
       "      <th>879</th>\n",
       "      <td>880</td>\n",
       "      <td>1</td>\n",
       "      <td>1</td>\n",
       "      <td>0</td>\n",
       "      <td>56.000000</td>\n",
       "      <td>11767</td>\n",
       "      <td>83.1583</td>\n",
       "      <td>0</td>\n",
       "      <td>4</td>\n",
       "      <td>1</td>\n",
       "      <td>False</td>\n",
       "      <td>1</td>\n",
       "    </tr>\n",
       "    <tr>\n",
       "      <th>377</th>\n",
       "      <td>378</td>\n",
       "      <td>0</td>\n",
       "      <td>1</td>\n",
       "      <td>1</td>\n",
       "      <td>27.000000</td>\n",
       "      <td>113503</td>\n",
       "      <td>211.5000</td>\n",
       "      <td>0</td>\n",
       "      <td>2</td>\n",
       "      <td>2</td>\n",
       "      <td>False</td>\n",
       "      <td>0</td>\n",
       "    </tr>\n",
       "  </tbody>\n",
       "</table>\n",
       "</div>"
      ],
      "text/plain": [
       "     PassengerId  Survived  Pclass  Sex        Age  Ticket      Fare  \\\n",
       "274          275         1       3    0  29.699118  370375    7.7500   \n",
       "879          880         1       1    0  56.000000   11767   83.1583   \n",
       "377          378         0       1    1  27.000000  113503  211.5000   \n",
       "\n",
       "     Embarked  AgeCat  NbrRelatives  IsAlone  Title  \n",
       "274         1       2             0     True      1  \n",
       "879         0       4             1    False      1  \n",
       "377         0       2             2    False      0  "
      ]
     },
     "execution_count": 64,
     "metadata": {},
     "output_type": "execute_result"
    }
   ],
   "source": [
    "train_df.sample(3)"
   ]
  },
  {
   "cell_type": "code",
   "execution_count": 65,
   "metadata": {},
   "outputs": [
    {
     "data": {
      "text/html": [
       "<div>\n",
       "<style>\n",
       "    .dataframe thead tr:only-child th {\n",
       "        text-align: right;\n",
       "    }\n",
       "\n",
       "    .dataframe thead th {\n",
       "        text-align: left;\n",
       "    }\n",
       "\n",
       "    .dataframe tbody tr th {\n",
       "        vertical-align: top;\n",
       "    }\n",
       "</style>\n",
       "<table border=\"1\" class=\"dataframe\">\n",
       "  <thead>\n",
       "    <tr style=\"text-align: right;\">\n",
       "      <th></th>\n",
       "      <th>PassengerId</th>\n",
       "      <th>Pclass</th>\n",
       "      <th>Name</th>\n",
       "      <th>Sex</th>\n",
       "      <th>Age</th>\n",
       "      <th>SibSp</th>\n",
       "      <th>Parch</th>\n",
       "      <th>Ticket</th>\n",
       "      <th>Fare</th>\n",
       "      <th>Cabin</th>\n",
       "      <th>Embarked</th>\n",
       "      <th>Title</th>\n",
       "      <th>NbrRelatives</th>\n",
       "      <th>IsAlone</th>\n",
       "      <th>AgeCat</th>\n",
       "    </tr>\n",
       "  </thead>\n",
       "  <tbody>\n",
       "    <tr>\n",
       "      <th>256</th>\n",
       "      <td>1148</td>\n",
       "      <td>3</td>\n",
       "      <td>Mahon, Mr. John</td>\n",
       "      <td>male</td>\n",
       "      <td>30.000375</td>\n",
       "      <td>0</td>\n",
       "      <td>0</td>\n",
       "      <td>AQ/4 3130</td>\n",
       "      <td>7.7500</td>\n",
       "      <td>NaN</td>\n",
       "      <td>1</td>\n",
       "      <td>0</td>\n",
       "      <td>0</td>\n",
       "      <td>True</td>\n",
       "      <td>2</td>\n",
       "    </tr>\n",
       "    <tr>\n",
       "      <th>301</th>\n",
       "      <td>1193</td>\n",
       "      <td>2</td>\n",
       "      <td>Malachard, Mr. Noel</td>\n",
       "      <td>male</td>\n",
       "      <td>30.000375</td>\n",
       "      <td>0</td>\n",
       "      <td>0</td>\n",
       "      <td>237735</td>\n",
       "      <td>15.0458</td>\n",
       "      <td>D</td>\n",
       "      <td>0</td>\n",
       "      <td>0</td>\n",
       "      <td>0</td>\n",
       "      <td>True</td>\n",
       "      <td>2</td>\n",
       "    </tr>\n",
       "    <tr>\n",
       "      <th>390</th>\n",
       "      <td>1282</td>\n",
       "      <td>1</td>\n",
       "      <td>Payne, Mr. Vivian Ponsonby</td>\n",
       "      <td>male</td>\n",
       "      <td>23.000000</td>\n",
       "      <td>0</td>\n",
       "      <td>0</td>\n",
       "      <td>12749</td>\n",
       "      <td>93.5000</td>\n",
       "      <td>B24</td>\n",
       "      <td>2</td>\n",
       "      <td>0</td>\n",
       "      <td>0</td>\n",
       "      <td>True</td>\n",
       "      <td>2</td>\n",
       "    </tr>\n",
       "  </tbody>\n",
       "</table>\n",
       "</div>"
      ],
      "text/plain": [
       "     PassengerId  Pclass                        Name   Sex        Age  SibSp  \\\n",
       "256         1148       3             Mahon, Mr. John  male  30.000375      0   \n",
       "301         1193       2         Malachard, Mr. Noel  male  30.000375      0   \n",
       "390         1282       1  Payne, Mr. Vivian Ponsonby  male  23.000000      0   \n",
       "\n",
       "     Parch     Ticket     Fare Cabin  Embarked  Title  NbrRelatives  IsAlone  \\\n",
       "256      0  AQ/4 3130   7.7500   NaN         1      0             0     True   \n",
       "301      0     237735  15.0458     D         0      0             0     True   \n",
       "390      0      12749  93.5000   B24         2      0             0     True   \n",
       "\n",
       "     AgeCat  \n",
       "256       2  \n",
       "301       2  \n",
       "390       2  "
      ]
     },
     "execution_count": 65,
     "metadata": {},
     "output_type": "execute_result"
    }
   ],
   "source": [
    "test_df.sample(3)"
   ]
  },
  {
   "cell_type": "markdown",
   "metadata": {},
   "source": [
    "### Encoding of the \"Sex\" Feature:"
   ]
  },
  {
   "cell_type": "code",
   "execution_count": 66,
   "metadata": {},
   "outputs": [
    {
     "data": {
      "text/html": [
       "<div>\n",
       "<style>\n",
       "    .dataframe thead tr:only-child th {\n",
       "        text-align: right;\n",
       "    }\n",
       "\n",
       "    .dataframe thead th {\n",
       "        text-align: left;\n",
       "    }\n",
       "\n",
       "    .dataframe tbody tr th {\n",
       "        vertical-align: top;\n",
       "    }\n",
       "</style>\n",
       "<table border=\"1\" class=\"dataframe\">\n",
       "  <thead>\n",
       "    <tr style=\"text-align: right;\">\n",
       "      <th></th>\n",
       "      <th>PassengerId</th>\n",
       "      <th>Pclass</th>\n",
       "      <th>Name</th>\n",
       "      <th>Sex</th>\n",
       "      <th>Age</th>\n",
       "      <th>SibSp</th>\n",
       "      <th>Parch</th>\n",
       "      <th>Ticket</th>\n",
       "      <th>Fare</th>\n",
       "      <th>Cabin</th>\n",
       "      <th>Embarked</th>\n",
       "      <th>Title</th>\n",
       "      <th>NbrRelatives</th>\n",
       "      <th>IsAlone</th>\n",
       "      <th>AgeCat</th>\n",
       "    </tr>\n",
       "  </thead>\n",
       "  <tbody>\n",
       "    <tr>\n",
       "      <th>70</th>\n",
       "      <td>962</td>\n",
       "      <td>3</td>\n",
       "      <td>Mulvihill, Miss. Bertha E</td>\n",
       "      <td>0</td>\n",
       "      <td>24.0</td>\n",
       "      <td>0</td>\n",
       "      <td>0</td>\n",
       "      <td>382653</td>\n",
       "      <td>7.7500</td>\n",
       "      <td>NaN</td>\n",
       "      <td>1</td>\n",
       "      <td>1</td>\n",
       "      <td>0</td>\n",
       "      <td>True</td>\n",
       "      <td>2</td>\n",
       "    </tr>\n",
       "    <tr>\n",
       "      <th>321</th>\n",
       "      <td>1213</td>\n",
       "      <td>3</td>\n",
       "      <td>Krekorian, Mr. Neshan</td>\n",
       "      <td>1</td>\n",
       "      <td>25.0</td>\n",
       "      <td>0</td>\n",
       "      <td>0</td>\n",
       "      <td>2654</td>\n",
       "      <td>7.2292</td>\n",
       "      <td>F E57</td>\n",
       "      <td>0</td>\n",
       "      <td>0</td>\n",
       "      <td>0</td>\n",
       "      <td>True</td>\n",
       "      <td>2</td>\n",
       "    </tr>\n",
       "    <tr>\n",
       "      <th>300</th>\n",
       "      <td>1192</td>\n",
       "      <td>3</td>\n",
       "      <td>Olsson, Mr. Oscar Wilhelm</td>\n",
       "      <td>1</td>\n",
       "      <td>32.0</td>\n",
       "      <td>0</td>\n",
       "      <td>0</td>\n",
       "      <td>347079</td>\n",
       "      <td>7.7750</td>\n",
       "      <td>NaN</td>\n",
       "      <td>2</td>\n",
       "      <td>0</td>\n",
       "      <td>0</td>\n",
       "      <td>True</td>\n",
       "      <td>2</td>\n",
       "    </tr>\n",
       "  </tbody>\n",
       "</table>\n",
       "</div>"
      ],
      "text/plain": [
       "     PassengerId  Pclass                       Name  Sex   Age  SibSp  Parch  \\\n",
       "70           962       3  Mulvihill, Miss. Bertha E    0  24.0      0      0   \n",
       "321         1213       3      Krekorian, Mr. Neshan    1  25.0      0      0   \n",
       "300         1192       3  Olsson, Mr. Oscar Wilhelm    1  32.0      0      0   \n",
       "\n",
       "     Ticket    Fare  Cabin  Embarked  Title  NbrRelatives  IsAlone  AgeCat  \n",
       "70   382653  7.7500    NaN         1      1             0     True       2  \n",
       "321    2654  7.2292  F E57         0      0             0     True       2  \n",
       "300  347079  7.7750    NaN         2      0             0     True       2  "
      ]
     },
     "execution_count": 66,
     "metadata": {},
     "output_type": "execute_result"
    }
   ],
   "source": [
    "test_df.Sex = encode_sex(test_df.Sex)\n",
    "test_df.sample(3)"
   ]
  },
  {
   "cell_type": "code",
   "execution_count": 67,
   "metadata": {},
   "outputs": [],
   "source": [
    "drop_cols = ['Name', 'SibSp', 'Parch', 'Ticket', 'Cabin']\n",
    "train_df.drop(['PassengerId', 'Ticket'], axis=1, inplace=True)\n",
    "test_df.drop(drop_cols, axis=1, inplace=True)"
   ]
  },
  {
   "cell_type": "code",
   "execution_count": 68,
   "metadata": {},
   "outputs": [
    {
     "name": "stdout",
     "output_type": "stream",
     "text": [
      "Check columns of both datasets:\n"
     ]
    },
    {
     "data": {
      "text/plain": [
       "(Index(['Survived', 'Pclass', 'Sex', 'Age', 'Fare', 'Embarked', 'AgeCat',\n",
       "        'NbrRelatives', 'IsAlone', 'Title'],\n",
       "       dtype='object'),\n",
       " Index(['PassengerId', 'Pclass', 'Sex', 'Age', 'Fare', 'Embarked', 'Title',\n",
       "        'NbrRelatives', 'IsAlone', 'AgeCat'],\n",
       "       dtype='object'))"
      ]
     },
     "execution_count": 68,
     "metadata": {},
     "output_type": "execute_result"
    }
   ],
   "source": [
    "print('Check columns of both datasets:')\n",
    "train_df.columns, test_df.columns"
   ]
  },
  {
   "cell_type": "code",
   "execution_count": 69,
   "metadata": {
    "_uuid": "87fb0260f29ca265553c5fb830fa7f9bbcd47871"
   },
   "outputs": [
    {
     "name": "stdout",
     "output_type": "stream",
     "text": [
      "Done Outputing to CSV\n"
     ]
    }
   ],
   "source": [
    "OUTPUT = True\n",
    "OUTPUT_DIR = '.' if IN_CLOUD else INPUT_DIR\n",
    "if OUTPUT:\n",
    "    train_df.to_csv(f'{OUTPUT_DIR}/train_clean.csv', index=False)\n",
    "    test_df.to_csv(f'{OUTPUT_DIR}/test_clean.csv', index=False)\n",
    "    print('Done Outputing to CSV')\n"
   ]
  },
  {
   "cell_type": "code",
   "execution_count": 70,
   "metadata": {
    "_uuid": "a19b9199fd44c4130fb5157b29dd7f2a74903c86"
   },
   "outputs": [
    {
     "data": {
      "text/html": [
       "<div>\n",
       "<style>\n",
       "    .dataframe thead tr:only-child th {\n",
       "        text-align: right;\n",
       "    }\n",
       "\n",
       "    .dataframe thead th {\n",
       "        text-align: left;\n",
       "    }\n",
       "\n",
       "    .dataframe tbody tr th {\n",
       "        vertical-align: top;\n",
       "    }\n",
       "</style>\n",
       "<table border=\"1\" class=\"dataframe\">\n",
       "  <thead>\n",
       "    <tr style=\"text-align: right;\">\n",
       "      <th></th>\n",
       "      <th>Survived</th>\n",
       "      <th>Pclass</th>\n",
       "      <th>Sex</th>\n",
       "      <th>Age</th>\n",
       "      <th>Fare</th>\n",
       "      <th>Embarked</th>\n",
       "      <th>AgeCat</th>\n",
       "      <th>NbrRelatives</th>\n",
       "      <th>IsAlone</th>\n",
       "      <th>Title</th>\n",
       "    </tr>\n",
       "  </thead>\n",
       "  <tbody>\n",
       "    <tr>\n",
       "      <th>74</th>\n",
       "      <td>1</td>\n",
       "      <td>3</td>\n",
       "      <td>1</td>\n",
       "      <td>32.000000</td>\n",
       "      <td>56.4958</td>\n",
       "      <td>2</td>\n",
       "      <td>2</td>\n",
       "      <td>0</td>\n",
       "      <td>True</td>\n",
       "      <td>0</td>\n",
       "    </tr>\n",
       "    <tr>\n",
       "      <th>507</th>\n",
       "      <td>1</td>\n",
       "      <td>1</td>\n",
       "      <td>1</td>\n",
       "      <td>29.699118</td>\n",
       "      <td>26.5500</td>\n",
       "      <td>2</td>\n",
       "      <td>2</td>\n",
       "      <td>0</td>\n",
       "      <td>True</td>\n",
       "      <td>0</td>\n",
       "    </tr>\n",
       "    <tr>\n",
       "      <th>517</th>\n",
       "      <td>0</td>\n",
       "      <td>3</td>\n",
       "      <td>1</td>\n",
       "      <td>29.699118</td>\n",
       "      <td>24.1500</td>\n",
       "      <td>1</td>\n",
       "      <td>2</td>\n",
       "      <td>0</td>\n",
       "      <td>True</td>\n",
       "      <td>0</td>\n",
       "    </tr>\n",
       "    <tr>\n",
       "      <th>758</th>\n",
       "      <td>0</td>\n",
       "      <td>3</td>\n",
       "      <td>1</td>\n",
       "      <td>34.000000</td>\n",
       "      <td>8.0500</td>\n",
       "      <td>2</td>\n",
       "      <td>2</td>\n",
       "      <td>0</td>\n",
       "      <td>True</td>\n",
       "      <td>0</td>\n",
       "    </tr>\n",
       "    <tr>\n",
       "      <th>140</th>\n",
       "      <td>0</td>\n",
       "      <td>3</td>\n",
       "      <td>0</td>\n",
       "      <td>29.699118</td>\n",
       "      <td>15.2458</td>\n",
       "      <td>0</td>\n",
       "      <td>2</td>\n",
       "      <td>2</td>\n",
       "      <td>False</td>\n",
       "      <td>1</td>\n",
       "    </tr>\n",
       "  </tbody>\n",
       "</table>\n",
       "</div>"
      ],
      "text/plain": [
       "     Survived  Pclass  Sex        Age     Fare  Embarked  AgeCat  \\\n",
       "74          1       3    1  32.000000  56.4958         2       2   \n",
       "507         1       1    1  29.699118  26.5500         2       2   \n",
       "517         0       3    1  29.699118  24.1500         1       2   \n",
       "758         0       3    1  34.000000   8.0500         2       2   \n",
       "140         0       3    0  29.699118  15.2458         0       2   \n",
       "\n",
       "     NbrRelatives  IsAlone  Title  \n",
       "74              0     True      0  \n",
       "507             0     True      0  \n",
       "517             0     True      0  \n",
       "758             0     True      0  \n",
       "140             2    False      1  "
      ]
     },
     "execution_count": 70,
     "metadata": {},
     "output_type": "execute_result"
    }
   ],
   "source": [
    "train_df.sample(5)"
   ]
  },
  {
   "cell_type": "code",
   "execution_count": 71,
   "metadata": {
    "_uuid": "b534bc1f3fbf57f7e48e3d1bf00ef5cab9ca08b0"
   },
   "outputs": [
    {
     "data": {
      "text/html": [
       "<div>\n",
       "<style>\n",
       "    .dataframe thead tr:only-child th {\n",
       "        text-align: right;\n",
       "    }\n",
       "\n",
       "    .dataframe thead th {\n",
       "        text-align: left;\n",
       "    }\n",
       "\n",
       "    .dataframe tbody tr th {\n",
       "        vertical-align: top;\n",
       "    }\n",
       "</style>\n",
       "<table border=\"1\" class=\"dataframe\">\n",
       "  <thead>\n",
       "    <tr style=\"text-align: right;\">\n",
       "      <th></th>\n",
       "      <th>PassengerId</th>\n",
       "      <th>Pclass</th>\n",
       "      <th>Sex</th>\n",
       "      <th>Age</th>\n",
       "      <th>Fare</th>\n",
       "      <th>Embarked</th>\n",
       "      <th>Title</th>\n",
       "      <th>NbrRelatives</th>\n",
       "      <th>IsAlone</th>\n",
       "      <th>AgeCat</th>\n",
       "    </tr>\n",
       "  </thead>\n",
       "  <tbody>\n",
       "    <tr>\n",
       "      <th>48</th>\n",
       "      <td>940</td>\n",
       "      <td>1</td>\n",
       "      <td>0</td>\n",
       "      <td>60.000000</td>\n",
       "      <td>76.2917</td>\n",
       "      <td>0</td>\n",
       "      <td>1</td>\n",
       "      <td>0</td>\n",
       "      <td>True</td>\n",
       "      <td>4</td>\n",
       "    </tr>\n",
       "    <tr>\n",
       "      <th>388</th>\n",
       "      <td>1280</td>\n",
       "      <td>3</td>\n",
       "      <td>1</td>\n",
       "      <td>21.000000</td>\n",
       "      <td>7.7500</td>\n",
       "      <td>1</td>\n",
       "      <td>0</td>\n",
       "      <td>0</td>\n",
       "      <td>True</td>\n",
       "      <td>1</td>\n",
       "    </tr>\n",
       "    <tr>\n",
       "      <th>216</th>\n",
       "      <td>1108</td>\n",
       "      <td>3</td>\n",
       "      <td>0</td>\n",
       "      <td>30.000375</td>\n",
       "      <td>7.8792</td>\n",
       "      <td>1</td>\n",
       "      <td>1</td>\n",
       "      <td>0</td>\n",
       "      <td>True</td>\n",
       "      <td>2</td>\n",
       "    </tr>\n",
       "    <tr>\n",
       "      <th>69</th>\n",
       "      <td>961</td>\n",
       "      <td>1</td>\n",
       "      <td>0</td>\n",
       "      <td>60.000000</td>\n",
       "      <td>263.0000</td>\n",
       "      <td>2</td>\n",
       "      <td>1</td>\n",
       "      <td>5</td>\n",
       "      <td>False</td>\n",
       "      <td>4</td>\n",
       "    </tr>\n",
       "    <tr>\n",
       "      <th>153</th>\n",
       "      <td>1045</td>\n",
       "      <td>3</td>\n",
       "      <td>0</td>\n",
       "      <td>36.000000</td>\n",
       "      <td>12.1833</td>\n",
       "      <td>2</td>\n",
       "      <td>1</td>\n",
       "      <td>2</td>\n",
       "      <td>False</td>\n",
       "      <td>3</td>\n",
       "    </tr>\n",
       "  </tbody>\n",
       "</table>\n",
       "</div>"
      ],
      "text/plain": [
       "     PassengerId  Pclass  Sex        Age      Fare  Embarked  Title  \\\n",
       "48           940       1    0  60.000000   76.2917         0      1   \n",
       "388         1280       3    1  21.000000    7.7500         1      0   \n",
       "216         1108       3    0  30.000375    7.8792         1      1   \n",
       "69           961       1    0  60.000000  263.0000         2      1   \n",
       "153         1045       3    0  36.000000   12.1833         2      1   \n",
       "\n",
       "     NbrRelatives  IsAlone  AgeCat  \n",
       "48              0     True       4  \n",
       "388             0     True       1  \n",
       "216             0     True       2  \n",
       "69              5    False       4  \n",
       "153             2    False       3  "
      ]
     },
     "execution_count": 71,
     "metadata": {},
     "output_type": "execute_result"
    }
   ],
   "source": [
    "test_df.sample(5)"
   ]
  },
  {
   "cell_type": "code",
   "execution_count": null,
   "metadata": {
    "_uuid": "26d364c404f81c7683b083744b82e6a797a65df6",
    "collapsed": true
   },
   "outputs": [],
   "source": []
  },
  {
   "cell_type": "code",
   "execution_count": null,
   "metadata": {
    "_uuid": "9ca067ca0fa39e2c9d31b3a89938ae0d0c1adf49",
    "collapsed": true
   },
   "outputs": [],
   "source": []
  },
  {
   "cell_type": "code",
   "execution_count": null,
   "metadata": {
    "_uuid": "8e8f8a1eb53d7f301ce0bdc1b22ff15a761423c5",
    "collapsed": true
   },
   "outputs": [],
   "source": []
  }
 ],
 "metadata": {
  "kernelspec": {
   "display_name": "Python 3",
   "language": "python",
   "name": "python3"
  },
  "language_info": {
   "codemirror_mode": {
    "name": "ipython",
    "version": 3
   },
   "file_extension": ".py",
   "mimetype": "text/x-python",
   "name": "python",
   "nbconvert_exporter": "python",
   "pygments_lexer": "ipython3",
   "version": "3.6.1"
  }
 },
 "nbformat": 4,
 "nbformat_minor": 1
}
